{
 "cells": [
  {
   "cell_type": "code",
   "execution_count": 1,
   "id": "2bf04fd8",
   "metadata": {},
   "outputs": [],
   "source": [
    "import pandas as pd\n",
    "import nltk\n",
    "from nltk.corpus import stopwords\n",
    "import re\n",
    "import string\n",
    "from nltk.tokenize import word_tokenize\n",
    "from nltk.corpus import stopwords\n",
    "from nltk.stem.wordnet import WordNetLemmatizer\n",
    "import re\n",
    "import matplotlib.pyplot as plt\n",
    "import seaborn as sns"
   ]
  },
  {
   "cell_type": "code",
   "execution_count": 2,
   "id": "55722a8f",
   "metadata": {},
   "outputs": [
    {
     "data": {
      "text/html": [
       "<div>\n",
       "<style scoped>\n",
       "    .dataframe tbody tr th:only-of-type {\n",
       "        vertical-align: middle;\n",
       "    }\n",
       "\n",
       "    .dataframe tbody tr th {\n",
       "        vertical-align: top;\n",
       "    }\n",
       "\n",
       "    .dataframe thead th {\n",
       "        text-align: right;\n",
       "    }\n",
       "</style>\n",
       "<table border=\"1\" class=\"dataframe\">\n",
       "  <thead>\n",
       "    <tr style=\"text-align: right;\">\n",
       "      <th></th>\n",
       "      <th>Video Id</th>\n",
       "      <th>Title</th>\n",
       "      <th>Category</th>\n",
       "    </tr>\n",
       "  </thead>\n",
       "  <tbody>\n",
       "    <tr>\n",
       "      <th>0</th>\n",
       "      <td>LXXkiUKDK4w</td>\n",
       "      <td>Entertainment | Full Movie | Akshay Kumar, Tam...</td>\n",
       "      <td>Entertainment</td>\n",
       "    </tr>\n",
       "    <tr>\n",
       "      <th>1</th>\n",
       "      <td>g2wboV4sPfc</td>\n",
       "      <td>Entertainment 1x01 - Toma polla</td>\n",
       "      <td>Entertainment</td>\n",
       "    </tr>\n",
       "    <tr>\n",
       "      <th>2</th>\n",
       "      <td>m-H0uIH5HHQ</td>\n",
       "      <td>The Jam - That&amp;#39;s Entertainment</td>\n",
       "      <td>Entertainment</td>\n",
       "    </tr>\n",
       "    <tr>\n",
       "      <th>3</th>\n",
       "      <td>ElcCJZyLjlA</td>\n",
       "      <td>Lesti - Mencintaimu Karena Allah | Official En...</td>\n",
       "      <td>Entertainment</td>\n",
       "    </tr>\n",
       "    <tr>\n",
       "      <th>4</th>\n",
       "      <td>ouJyesvlANE</td>\n",
       "      <td>ENTERTAINMENT- 2X01 &amp;quot;Diffferent&amp;quot;</td>\n",
       "      <td>Entertainment</td>\n",
       "    </tr>\n",
       "    <tr>\n",
       "      <th>5</th>\n",
       "      <td>C8CULyy7BhM</td>\n",
       "      <td>TEKA KUIH MUIH BERBUKA PUASA !!! COMEL JE SI D...</td>\n",
       "      <td>Entertainment</td>\n",
       "    </tr>\n",
       "    <tr>\n",
       "      <th>6</th>\n",
       "      <td>QPyDI091ImY</td>\n",
       "      <td>Entertainment 1x02 - La Mentira Del Túnel Antiguo</td>\n",
       "      <td>Entertainment</td>\n",
       "    </tr>\n",
       "    <tr>\n",
       "      <th>7</th>\n",
       "      <td>NaN</td>\n",
       "      <td>MBN Entertainment</td>\n",
       "      <td>Entertainment</td>\n",
       "    </tr>\n",
       "    <tr>\n",
       "      <th>8</th>\n",
       "      <td>C1KYRMqv_ZA</td>\n",
       "      <td>How Netflix And YouTube Changed Entertainment ...</td>\n",
       "      <td>Entertainment</td>\n",
       "    </tr>\n",
       "    <tr>\n",
       "      <th>9</th>\n",
       "      <td>yD_tIHOdxxY</td>\n",
       "      <td>മാഞ്ഞാളം Boys 🤨😂 - Spoof | Malayalam Vine | Ikru</td>\n",
       "      <td>Entertainment</td>\n",
       "    </tr>\n",
       "    <tr>\n",
       "      <th>10</th>\n",
       "      <td>lDR0txplahk</td>\n",
       "      <td>TEKA CHEF SELEBRITI TERKENAL !!! RUPANYA MIMI ...</td>\n",
       "      <td>Entertainment</td>\n",
       "    </tr>\n",
       "    <tr>\n",
       "      <th>11</th>\n",
       "      <td>x_DSWpdn8Ww</td>\n",
       "      <td>PULES : SERU BANGET NOBAR AMKA BERSAMA PARA FA...</td>\n",
       "      <td>Entertainment</td>\n",
       "    </tr>\n",
       "    <tr>\n",
       "      <th>12</th>\n",
       "      <td>bPi4YIVW36M</td>\n",
       "      <td>PULES : ROMANTIS MAKSIMAL!!!  LESTI KEJORA TUR...</td>\n",
       "      <td>Entertainment</td>\n",
       "    </tr>\n",
       "    <tr>\n",
       "      <th>13</th>\n",
       "      <td>ZMjorljIkDU</td>\n",
       "      <td>MAGER : ABANG L ABSENIN SATU - SATU NAMA SUPER...</td>\n",
       "      <td>Entertainment</td>\n",
       "    </tr>\n",
       "    <tr>\n",
       "      <th>14</th>\n",
       "      <td>4dYEgvnowzc</td>\n",
       "      <td>TWICE REALITY “TIME TO TWICE” TDOONG Entertain...</td>\n",
       "      <td>Entertainment</td>\n",
       "    </tr>\n",
       "  </tbody>\n",
       "</table>\n",
       "</div>"
      ],
      "text/plain": [
       "       Video Id                                              Title  \\\n",
       "0   LXXkiUKDK4w  Entertainment | Full Movie | Akshay Kumar, Tam...   \n",
       "1   g2wboV4sPfc                    Entertainment 1x01 - Toma polla   \n",
       "2   m-H0uIH5HHQ                 The Jam - That&#39;s Entertainment   \n",
       "3   ElcCJZyLjlA  Lesti - Mencintaimu Karena Allah | Official En...   \n",
       "4   ouJyesvlANE         ENTERTAINMENT- 2X01 &quot;Diffferent&quot;   \n",
       "5   C8CULyy7BhM  TEKA KUIH MUIH BERBUKA PUASA !!! COMEL JE SI D...   \n",
       "6   QPyDI091ImY  Entertainment 1x02 - La Mentira Del Túnel Antiguo   \n",
       "7           NaN                                  MBN Entertainment   \n",
       "8   C1KYRMqv_ZA  How Netflix And YouTube Changed Entertainment ...   \n",
       "9   yD_tIHOdxxY   മാഞ്ഞാളം Boys 🤨😂 - Spoof | Malayalam Vine | Ikru   \n",
       "10  lDR0txplahk  TEKA CHEF SELEBRITI TERKENAL !!! RUPANYA MIMI ...   \n",
       "11  x_DSWpdn8Ww  PULES : SERU BANGET NOBAR AMKA BERSAMA PARA FA...   \n",
       "12  bPi4YIVW36M  PULES : ROMANTIS MAKSIMAL!!!  LESTI KEJORA TUR...   \n",
       "13  ZMjorljIkDU  MAGER : ABANG L ABSENIN SATU - SATU NAMA SUPER...   \n",
       "14  4dYEgvnowzc  TWICE REALITY “TIME TO TWICE” TDOONG Entertain...   \n",
       "\n",
       "         Category  \n",
       "0   Entertainment  \n",
       "1   Entertainment  \n",
       "2   Entertainment  \n",
       "3   Entertainment  \n",
       "4   Entertainment  \n",
       "5   Entertainment  \n",
       "6   Entertainment  \n",
       "7   Entertainment  \n",
       "8   Entertainment  \n",
       "9   Entertainment  \n",
       "10  Entertainment  \n",
       "11  Entertainment  \n",
       "12  Entertainment  \n",
       "13  Entertainment  \n",
       "14  Entertainment  "
      ]
     },
     "execution_count": 2,
     "metadata": {},
     "output_type": "execute_result"
    }
   ],
   "source": [
    "# Import Data\n",
    "data = pd.read_csv('Youtube_raw_data2.csv')\n",
    "# data = data.iloc[:, 1:]     # Remove extra un-named column\n",
    "data.head(15)"
   ]
  },
  {
   "cell_type": "markdown",
   "id": "41c8fa61",
   "metadata": {},
   "source": [
    "# Data Preprocessing and Cleaning"
   ]
  },
  {
   "cell_type": "markdown",
   "id": "9520c25d",
   "metadata": {},
   "source": [
    "## Missing Values"
   ]
  },
  {
   "cell_type": "code",
   "execution_count": 3,
   "id": "31acce10",
   "metadata": {},
   "outputs": [
    {
     "name": "stdout",
     "output_type": "stream",
     "text": [
      "Number of missing values: 231\n"
     ]
    }
   ],
   "source": [
    "# Missing Values\n",
    "num_missing_desc = data.isnull().sum()[2]    \n",
    "print('Number of missing values: ' + str(num_missing_desc))\n",
    "data = data.dropna()"
   ]
  },
  {
   "cell_type": "markdown",
   "id": "765a38b3",
   "metadata": {},
   "source": [
    "## Text Cleaning"
   ]
  },
  {
   "cell_type": "markdown",
   "id": "033f0830",
   "metadata": {},
   "source": [
    "#### The cleaning of the text is performed in the various manner"
   ]
  },
  {
   "cell_type": "code",
   "execution_count": 4,
   "id": "27f80884",
   "metadata": {},
   "outputs": [
    {
     "data": {
      "text/html": [
       "<div>\n",
       "<style scoped>\n",
       "    .dataframe tbody tr th:only-of-type {\n",
       "        vertical-align: middle;\n",
       "    }\n",
       "\n",
       "    .dataframe tbody tr th {\n",
       "        vertical-align: top;\n",
       "    }\n",
       "\n",
       "    .dataframe thead th {\n",
       "        text-align: right;\n",
       "    }\n",
       "</style>\n",
       "<table border=\"1\" class=\"dataframe\">\n",
       "  <thead>\n",
       "    <tr style=\"text-align: right;\">\n",
       "      <th></th>\n",
       "      <th>Video Id</th>\n",
       "      <th>Title</th>\n",
       "      <th>Category</th>\n",
       "    </tr>\n",
       "  </thead>\n",
       "  <tbody>\n",
       "    <tr>\n",
       "      <th>0</th>\n",
       "      <td>LXXkiUKDK4w</td>\n",
       "      <td>Entertainment | Full Movie | Akshay Kumar, Tam...</td>\n",
       "      <td>Entertainment</td>\n",
       "    </tr>\n",
       "    <tr>\n",
       "      <th>1</th>\n",
       "      <td>g2wboV4sPfc</td>\n",
       "      <td>Entertainment 1x01 - Toma polla</td>\n",
       "      <td>Entertainment</td>\n",
       "    </tr>\n",
       "    <tr>\n",
       "      <th>2</th>\n",
       "      <td>m-H0uIH5HHQ</td>\n",
       "      <td>The Jam - That&amp;#39;s Entertainment</td>\n",
       "      <td>Entertainment</td>\n",
       "    </tr>\n",
       "    <tr>\n",
       "      <th>3</th>\n",
       "      <td>ElcCJZyLjlA</td>\n",
       "      <td>Lesti - Mencintaimu Karena Allah | Official En...</td>\n",
       "      <td>Entertainment</td>\n",
       "    </tr>\n",
       "    <tr>\n",
       "      <th>4</th>\n",
       "      <td>ouJyesvlANE</td>\n",
       "      <td>ENTERTAINMENT- 2X01 &amp;quot;Diffferent&amp;quot;</td>\n",
       "      <td>Entertainment</td>\n",
       "    </tr>\n",
       "    <tr>\n",
       "      <th>5</th>\n",
       "      <td>C8CULyy7BhM</td>\n",
       "      <td>TEKA KUIH MUIH BERBUKA PUASA !!! COMEL JE SI D...</td>\n",
       "      <td>Entertainment</td>\n",
       "    </tr>\n",
       "    <tr>\n",
       "      <th>6</th>\n",
       "      <td>QPyDI091ImY</td>\n",
       "      <td>Entertainment 1x02 - La Mentira Del Túnel Antiguo</td>\n",
       "      <td>Entertainment</td>\n",
       "    </tr>\n",
       "    <tr>\n",
       "      <th>8</th>\n",
       "      <td>C1KYRMqv_ZA</td>\n",
       "      <td>How Netflix And YouTube Changed Entertainment ...</td>\n",
       "      <td>Entertainment</td>\n",
       "    </tr>\n",
       "    <tr>\n",
       "      <th>9</th>\n",
       "      <td>yD_tIHOdxxY</td>\n",
       "      <td>മാഞ്ഞാളം Boys 🤨😂 - Spoof | Malayalam Vine | Ikru</td>\n",
       "      <td>Entertainment</td>\n",
       "    </tr>\n",
       "    <tr>\n",
       "      <th>10</th>\n",
       "      <td>lDR0txplahk</td>\n",
       "      <td>TEKA CHEF SELEBRITI TERKENAL !!! RUPANYA MIMI ...</td>\n",
       "      <td>Entertainment</td>\n",
       "    </tr>\n",
       "    <tr>\n",
       "      <th>11</th>\n",
       "      <td>x_DSWpdn8Ww</td>\n",
       "      <td>PULES : SERU BANGET NOBAR AMKA BERSAMA PARA FA...</td>\n",
       "      <td>Entertainment</td>\n",
       "    </tr>\n",
       "    <tr>\n",
       "      <th>12</th>\n",
       "      <td>bPi4YIVW36M</td>\n",
       "      <td>PULES : ROMANTIS MAKSIMAL!!!  LESTI KEJORA TUR...</td>\n",
       "      <td>Entertainment</td>\n",
       "    </tr>\n",
       "    <tr>\n",
       "      <th>13</th>\n",
       "      <td>ZMjorljIkDU</td>\n",
       "      <td>MAGER : ABANG L ABSENIN SATU - SATU NAMA SUPER...</td>\n",
       "      <td>Entertainment</td>\n",
       "    </tr>\n",
       "    <tr>\n",
       "      <th>14</th>\n",
       "      <td>4dYEgvnowzc</td>\n",
       "      <td>TWICE REALITY “TIME TO TWICE” TDOONG Entertain...</td>\n",
       "      <td>Entertainment</td>\n",
       "    </tr>\n",
       "    <tr>\n",
       "      <th>15</th>\n",
       "      <td>qEAeq-eW4Gw</td>\n",
       "      <td>NEPALI ROCKSTAR ( Rockstar Saila ) | Garima En...</td>\n",
       "      <td>Entertainment</td>\n",
       "    </tr>\n",
       "  </tbody>\n",
       "</table>\n",
       "</div>"
      ],
      "text/plain": [
       "       Video Id                                              Title  \\\n",
       "0   LXXkiUKDK4w  Entertainment | Full Movie | Akshay Kumar, Tam...   \n",
       "1   g2wboV4sPfc                    Entertainment 1x01 - Toma polla   \n",
       "2   m-H0uIH5HHQ                 The Jam - That&#39;s Entertainment   \n",
       "3   ElcCJZyLjlA  Lesti - Mencintaimu Karena Allah | Official En...   \n",
       "4   ouJyesvlANE         ENTERTAINMENT- 2X01 &quot;Diffferent&quot;   \n",
       "5   C8CULyy7BhM  TEKA KUIH MUIH BERBUKA PUASA !!! COMEL JE SI D...   \n",
       "6   QPyDI091ImY  Entertainment 1x02 - La Mentira Del Túnel Antiguo   \n",
       "8   C1KYRMqv_ZA  How Netflix And YouTube Changed Entertainment ...   \n",
       "9   yD_tIHOdxxY   മാഞ്ഞാളം Boys 🤨😂 - Spoof | Malayalam Vine | Ikru   \n",
       "10  lDR0txplahk  TEKA CHEF SELEBRITI TERKENAL !!! RUPANYA MIMI ...   \n",
       "11  x_DSWpdn8Ww  PULES : SERU BANGET NOBAR AMKA BERSAMA PARA FA...   \n",
       "12  bPi4YIVW36M  PULES : ROMANTIS MAKSIMAL!!!  LESTI KEJORA TUR...   \n",
       "13  ZMjorljIkDU  MAGER : ABANG L ABSENIN SATU - SATU NAMA SUPER...   \n",
       "14  4dYEgvnowzc  TWICE REALITY “TIME TO TWICE” TDOONG Entertain...   \n",
       "15  qEAeq-eW4Gw  NEPALI ROCKSTAR ( Rockstar Saila ) | Garima En...   \n",
       "\n",
       "         Category  \n",
       "0   Entertainment  \n",
       "1   Entertainment  \n",
       "2   Entertainment  \n",
       "3   Entertainment  \n",
       "4   Entertainment  \n",
       "5   Entertainment  \n",
       "6   Entertainment  \n",
       "8   Entertainment  \n",
       "9   Entertainment  \n",
       "10  Entertainment  \n",
       "11  Entertainment  \n",
       "12  Entertainment  \n",
       "13  Entertainment  \n",
       "14  Entertainment  \n",
       "15  Entertainment  "
      ]
     },
     "execution_count": 4,
     "metadata": {},
     "output_type": "execute_result"
    }
   ],
   "source": [
    "data.head(15)"
   ]
  },
  {
   "cell_type": "code",
   "execution_count": 5,
   "id": "99ab35cd",
   "metadata": {},
   "outputs": [],
   "source": [
    "# Change to lowercase\n",
    "data['Title'] = data['Title'].map(lambda x: x.lower())\n",
    "# data['Description'] = data['Description'].map(lambda x: x.lower())?\n",
    "\n",
    "# Remove numbers\n",
    "data['Title'] = data['Title'].map(lambda x: re.sub(r'\\d+', '', x))\n",
    "# data['Description'] = data['Description'].map(lambda x: re.sub(r'\\d+', '', x))\n",
    "\n",
    "# Remove Punctuation\n",
    "data['Title']  = data['Title'].map(lambda x: x.translate(x.maketrans('', '', string.punctuation)))\n",
    "# data['Description']  = data['Description'].map(lambda x: x.translate(x.maketrans('', '', string.punctuation)))\n",
    "\n",
    "# Remove white spaces\n",
    "data['Title'] = data['Title'].map(lambda x: x.strip())\n",
    "# data['Description'] = data['Description'].map(lambda x: x.strip())\n",
    "\n",
    "# Tokenize into words\n",
    "data['Title'] = data['Title'].map(lambda x: word_tokenize(x))\n",
    "# data['Description'] = data['Description'].map(lambda x: word_tokenize(x))\n",
    " \n",
    "# Remove non alphabetic tokens\n",
    "data['Title'] = data['Title'].map(lambda x: [word for word in x if word.isalpha()])\n",
    "# data['Description'] = data['Description'].map(lambda x: [word for word in x if word.isalpha()])\n",
    "# filter out stop words\n",
    "stop_words = set(stopwords.words('english'))\n",
    "data['Title'] = data['Title'].map(lambda x: [w for w in x if not w in stop_words])\n",
    "# data['Description'] = data['Description'].map(lambda x: [w for w in x if not w in stop_words])\n",
    "\n",
    "# Word Lemmatization\n",
    "lem = WordNetLemmatizer()\n",
    "data['Title'] = data['Title'].map(lambda x: [lem.lemmatize(word,\"v\") for word in x])\n",
    "# data['Description'] = data['Description'].map(lambda x: [lem.lemmatize(word,\"v\") for word in x])\n",
    "\n",
    "# Turn lists back to string\n",
    "data['Title'] = data['Title'].map(lambda x: ' '.join(x))\n",
    "# data['Description'] = data['Description'].map(lambda x: ' '.join(x))"
   ]
  },
  {
   "cell_type": "code",
   "execution_count": 6,
   "id": "a86b6cc3",
   "metadata": {},
   "outputs": [
    {
     "data": {
      "text/html": [
       "<div>\n",
       "<style scoped>\n",
       "    .dataframe tbody tr th:only-of-type {\n",
       "        vertical-align: middle;\n",
       "    }\n",
       "\n",
       "    .dataframe tbody tr th {\n",
       "        vertical-align: top;\n",
       "    }\n",
       "\n",
       "    .dataframe thead th {\n",
       "        text-align: right;\n",
       "    }\n",
       "</style>\n",
       "<table border=\"1\" class=\"dataframe\">\n",
       "  <thead>\n",
       "    <tr style=\"text-align: right;\">\n",
       "      <th></th>\n",
       "      <th>Video Id</th>\n",
       "      <th>Title</th>\n",
       "      <th>Category</th>\n",
       "    </tr>\n",
       "  </thead>\n",
       "  <tbody>\n",
       "    <tr>\n",
       "      <th>0</th>\n",
       "      <td>LXXkiUKDK4w</td>\n",
       "      <td>entertainment full movie akshay kumar tamannaa...</td>\n",
       "      <td>Entertainment</td>\n",
       "    </tr>\n",
       "    <tr>\n",
       "      <th>1</th>\n",
       "      <td>g2wboV4sPfc</td>\n",
       "      <td>entertainment x toma polla</td>\n",
       "      <td>Entertainment</td>\n",
       "    </tr>\n",
       "    <tr>\n",
       "      <th>2</th>\n",
       "      <td>m-H0uIH5HHQ</td>\n",
       "      <td>jam thats entertainment</td>\n",
       "      <td>Entertainment</td>\n",
       "    </tr>\n",
       "    <tr>\n",
       "      <th>3</th>\n",
       "      <td>ElcCJZyLjlA</td>\n",
       "      <td>lesti mencintaimu karena allah official entert...</td>\n",
       "      <td>Entertainment</td>\n",
       "    </tr>\n",
       "    <tr>\n",
       "      <th>4</th>\n",
       "      <td>ouJyesvlANE</td>\n",
       "      <td>entertainment x quotdiffferentquot</td>\n",
       "      <td>Entertainment</td>\n",
       "    </tr>\n",
       "    <tr>\n",
       "      <th>5</th>\n",
       "      <td>C8CULyy7BhM</td>\n",
       "      <td>teka kuih muih berbuka puasa comel je si dia a...</td>\n",
       "      <td>Entertainment</td>\n",
       "    </tr>\n",
       "    <tr>\n",
       "      <th>6</th>\n",
       "      <td>QPyDI091ImY</td>\n",
       "      <td>entertainment x la mentira del túnel antiguo</td>\n",
       "      <td>Entertainment</td>\n",
       "    </tr>\n",
       "    <tr>\n",
       "      <th>8</th>\n",
       "      <td>C1KYRMqv_ZA</td>\n",
       "      <td>netflix youtube change entertainment forever c...</td>\n",
       "      <td>Entertainment</td>\n",
       "    </tr>\n",
       "    <tr>\n",
       "      <th>9</th>\n",
       "      <td>yD_tIHOdxxY</td>\n",
       "      <td>boys spoof malayalam vine ikru</td>\n",
       "      <td>Entertainment</td>\n",
       "    </tr>\n",
       "    <tr>\n",
       "      <th>10</th>\n",
       "      <td>lDR0txplahk</td>\n",
       "      <td>teka chef selebriti terkenal rupanya mimi juar...</td>\n",
       "      <td>Entertainment</td>\n",
       "    </tr>\n",
       "    <tr>\n",
       "      <th>11</th>\n",
       "      <td>x_DSWpdn8Ww</td>\n",
       "      <td>pule seru banget nobar amka bersama para fan a...</td>\n",
       "      <td>Entertainment</td>\n",
       "    </tr>\n",
       "    <tr>\n",
       "      <th>12</th>\n",
       "      <td>bPi4YIVW36M</td>\n",
       "      <td>pule romantis maksimal lesti kejora turun pang...</td>\n",
       "      <td>Entertainment</td>\n",
       "    </tr>\n",
       "    <tr>\n",
       "      <th>13</th>\n",
       "      <td>ZMjorljIkDU</td>\n",
       "      <td>mager abang l absenin satu satu nama superhero...</td>\n",
       "      <td>Entertainment</td>\n",
       "    </tr>\n",
       "    <tr>\n",
       "      <th>14</th>\n",
       "      <td>4dYEgvnowzc</td>\n",
       "      <td>twice reality time twice tdoong entertainment ...</td>\n",
       "      <td>Entertainment</td>\n",
       "    </tr>\n",
       "    <tr>\n",
       "      <th>15</th>\n",
       "      <td>qEAeq-eW4Gw</td>\n",
       "      <td>nepali rockstar rockstar saila garima entertai...</td>\n",
       "      <td>Entertainment</td>\n",
       "    </tr>\n",
       "  </tbody>\n",
       "</table>\n",
       "</div>"
      ],
      "text/plain": [
       "       Video Id                                              Title  \\\n",
       "0   LXXkiUKDK4w  entertainment full movie akshay kumar tamannaa...   \n",
       "1   g2wboV4sPfc                         entertainment x toma polla   \n",
       "2   m-H0uIH5HHQ                            jam thats entertainment   \n",
       "3   ElcCJZyLjlA  lesti mencintaimu karena allah official entert...   \n",
       "4   ouJyesvlANE                 entertainment x quotdiffferentquot   \n",
       "5   C8CULyy7BhM  teka kuih muih berbuka puasa comel je si dia a...   \n",
       "6   QPyDI091ImY       entertainment x la mentira del túnel antiguo   \n",
       "8   C1KYRMqv_ZA  netflix youtube change entertainment forever c...   \n",
       "9   yD_tIHOdxxY                     boys spoof malayalam vine ikru   \n",
       "10  lDR0txplahk  teka chef selebriti terkenal rupanya mimi juar...   \n",
       "11  x_DSWpdn8Ww  pule seru banget nobar amka bersama para fan a...   \n",
       "12  bPi4YIVW36M  pule romantis maksimal lesti kejora turun pang...   \n",
       "13  ZMjorljIkDU  mager abang l absenin satu satu nama superhero...   \n",
       "14  4dYEgvnowzc  twice reality time twice tdoong entertainment ...   \n",
       "15  qEAeq-eW4Gw  nepali rockstar rockstar saila garima entertai...   \n",
       "\n",
       "         Category  \n",
       "0   Entertainment  \n",
       "1   Entertainment  \n",
       "2   Entertainment  \n",
       "3   Entertainment  \n",
       "4   Entertainment  \n",
       "5   Entertainment  \n",
       "6   Entertainment  \n",
       "8   Entertainment  \n",
       "9   Entertainment  \n",
       "10  Entertainment  \n",
       "11  Entertainment  \n",
       "12  Entertainment  \n",
       "13  Entertainment  \n",
       "14  Entertainment  \n",
       "15  Entertainment  "
      ]
     },
     "execution_count": 6,
     "metadata": {},
     "output_type": "execute_result"
    }
   ],
   "source": [
    "data.head(15)"
   ]
  },
  {
   "cell_type": "markdown",
   "id": "e8648c6e",
   "metadata": {},
   "source": [
    "## Data Preprocessing"
   ]
  },
  {
   "cell_type": "markdown",
   "id": "2b1ec062",
   "metadata": {},
   "source": [
    "### Label Encoding classes"
   ]
  },
  {
   "cell_type": "code",
   "execution_count": 7,
   "id": "5ad0da87",
   "metadata": {},
   "outputs": [
    {
     "data": {
      "text/html": [
       "<div>\n",
       "<style scoped>\n",
       "    .dataframe tbody tr th:only-of-type {\n",
       "        vertical-align: middle;\n",
       "    }\n",
       "\n",
       "    .dataframe tbody tr th {\n",
       "        vertical-align: top;\n",
       "    }\n",
       "\n",
       "    .dataframe thead th {\n",
       "        text-align: right;\n",
       "    }\n",
       "</style>\n",
       "<table border=\"1\" class=\"dataframe\">\n",
       "  <thead>\n",
       "    <tr style=\"text-align: right;\">\n",
       "      <th></th>\n",
       "      <th>Video Id</th>\n",
       "      <th>Title</th>\n",
       "      <th>Category</th>\n",
       "    </tr>\n",
       "  </thead>\n",
       "  <tbody>\n",
       "    <tr>\n",
       "      <th>0</th>\n",
       "      <td>LXXkiUKDK4w</td>\n",
       "      <td>entertainment full movie akshay kumar tamannaa...</td>\n",
       "      <td>1</td>\n",
       "    </tr>\n",
       "    <tr>\n",
       "      <th>1</th>\n",
       "      <td>g2wboV4sPfc</td>\n",
       "      <td>entertainment x toma polla</td>\n",
       "      <td>1</td>\n",
       "    </tr>\n",
       "    <tr>\n",
       "      <th>2</th>\n",
       "      <td>m-H0uIH5HHQ</td>\n",
       "      <td>jam thats entertainment</td>\n",
       "      <td>1</td>\n",
       "    </tr>\n",
       "    <tr>\n",
       "      <th>3</th>\n",
       "      <td>ElcCJZyLjlA</td>\n",
       "      <td>lesti mencintaimu karena allah official entert...</td>\n",
       "      <td>1</td>\n",
       "    </tr>\n",
       "    <tr>\n",
       "      <th>4</th>\n",
       "      <td>ouJyesvlANE</td>\n",
       "      <td>entertainment x quotdiffferentquot</td>\n",
       "      <td>1</td>\n",
       "    </tr>\n",
       "  </tbody>\n",
       "</table>\n",
       "</div>"
      ],
      "text/plain": [
       "      Video Id                                              Title  Category\n",
       "0  LXXkiUKDK4w  entertainment full movie akshay kumar tamannaa...         1\n",
       "1  g2wboV4sPfc                         entertainment x toma polla         1\n",
       "2  m-H0uIH5HHQ                            jam thats entertainment         1\n",
       "3  ElcCJZyLjlA  lesti mencintaimu karena allah official entert...         1\n",
       "4  ouJyesvlANE                 entertainment x quotdiffferentquot         1"
      ]
     },
     "execution_count": 7,
     "metadata": {},
     "output_type": "execute_result"
    }
   ],
   "source": [
    "# Encode classes\n",
    "from sklearn.preprocessing import LabelEncoder\n",
    "le = LabelEncoder()\n",
    "le.fit(data.Category)\n",
    "data.Category = le.transform(data.Category)\n",
    "data.head(5)"
   ]
  },
  {
   "cell_type": "markdown",
   "id": "ae7cb24e",
   "metadata": {},
   "source": [
    "### TF-IDF Text Vectorization"
   ]
  },
  {
   "cell_type": "code",
   "execution_count": 8,
   "id": "a80013f9",
   "metadata": {},
   "outputs": [
    {
     "name": "stdout",
     "output_type": "stream",
     "text": [
      "Title Features Shape: (3476, 1574)\n"
     ]
    }
   ],
   "source": [
    "# TF-IDF\n",
    "from sklearn.feature_extraction.text import TfidfVectorizer\n",
    "tfidf_title = TfidfVectorizer(sublinear_tf=True, min_df=5, norm='l2', encoding='latin-1', ngram_range=(1, 2), stop_words='english')\n",
    "# tfidf_desc = TfidfVectorizer(sublinear_tf=True, min_df=5, norm='l2', encoding='latin-1', ngram_range=(1, 2), stop_words='english')\n",
    "labels = data.Category\n",
    "features_title = tfidf_title.fit_transform(data.Title).toarray()\n",
    "# features_description = tfidf_desc.fit_transform(data.Description).toarray()\n",
    "print('Title Features Shape: ' + str(features_title.shape))"
   ]
  },
  {
   "cell_type": "markdown",
   "id": "83b58d5e",
   "metadata": {},
   "source": [
    "### Data Analysis and Feature Exploration"
   ]
  },
  {
   "cell_type": "code",
   "execution_count": 9,
   "id": "f214b6bc",
   "metadata": {},
   "outputs": [
    {
     "data": {
      "image/png": "[encoded data removed]",
      "text/plain": [
       "<Figure size 720x432 with 1 Axes>"
      ]
     },
     "metadata": {
      "needs_background": "light"
     },
     "output_type": "display_data"
    }
   ],
   "source": [
    "category_mapping = {\n",
    "    0: 'Education',\n",
    "    1: 'Entertainment',\n",
    "}\n",
    "\n",
    "# Replace numeric category names with word representations\n",
    "data['Category'] = data['Category'].map(category_mapping)\n",
    "\n",
    "# Plotting class distribution with different colors for each category\n",
    "plt.figure(figsize=(10, 6))\n",
    "sns.countplot(data=data, x='Category', order=data['Category'].value_counts().index, palette='viridis')\n",
    "plt.title('Number of samples for each class')\n",
    "plt.xlabel('Category')\n",
    "plt.ylabel('Number of Samples')\n",
    "plt.xticks(rotation=45, ha='right')  # Rotate x-axis labels for better readability\n",
    "plt.tight_layout()\n",
    "plt.show()"
   ]
  },
  {
   "cell_type": "markdown",
   "id": "b464831f",
   "metadata": {},
   "source": [
    "### Now let us see if the features are correctly extracted from the text data by checking the most important features for each class "
   ]
  },
  {
   "cell_type": "code",
   "execution_count": 10,
   "id": "9866e564",
   "metadata": {},
   "outputs": [
    {
     "name": "stdout",
     "output_type": "stream",
     "text": [
      "# 'Education':\n",
      "Most correlated unigrams:\n",
      "------------------------------\n",
      ". learn\n",
      ". mathematics\n",
      ". math\n",
      ". entertainment\n",
      ". entertaiment\n",
      "Most correlated bigrams:\n",
      "------------------------------\n",
      ". news pt\n",
      ". entertaiment news\n",
      ". short entertaiment\n",
      ". entertaiment short\n",
      ". math antic\n",
      "\n",
      "\n",
      "# 'Entertainment':\n",
      "Most correlated unigrams:\n",
      "------------------------------\n",
      ". learn\n",
      ". mathematics\n",
      ". math\n",
      ". entertainment\n",
      ". entertaiment\n",
      "Most correlated bigrams:\n",
      "------------------------------\n",
      ". news pt\n",
      ". entertaiment news\n",
      ". short entertaiment\n",
      ". entertaiment short\n",
      ". math antic\n",
      "\n",
      "\n"
     ]
    }
   ],
   "source": [
    "# Best 5 keywords for each class using Title Feaures\n",
    "from sklearn.feature_selection import chi2\n",
    "import numpy as np\n",
    "N = 5\n",
    "for current_class in list(le.classes_):\n",
    "    current_class_id = le.transform([current_class])[0]\n",
    "    features_chi2 = chi2(features_title, labels == current_class_id)\n",
    "    indices = np.argsort(features_chi2[0])\n",
    "    feature_names = np.array(tfidf_title.get_feature_names())[indices]\n",
    "    unigrams = [v for v in feature_names if len(v.split(' ')) == 1]\n",
    "    bigrams = [v for v in feature_names if len(v.split(' ')) == 2]\n",
    "    print(\"# '{}':\".format(current_class))\n",
    "    print(\"Most correlated unigrams:\")\n",
    "    print('-' *30)\n",
    "    print('. {}'.format('\\n. '.join(unigrams[-N:])))\n",
    "    print(\"Most correlated bigrams:\")\n",
    "    print('-' *30)\n",
    "    print('. {}'.format('\\n. '.join(bigrams[-N:])))\n",
    "    print(\"\\n\")"
   ]
  },
  {
   "cell_type": "markdown",
   "id": "588c00d6",
   "metadata": {},
   "source": [
    "## Modeling and Training"
   ]
  },
  {
   "cell_type": "markdown",
   "id": "fbc3c533",
   "metadata": {},
   "source": [
    "### The features from both the title and description are extracted separately, and then combined to create a final feature matrix."
   ]
  },
  {
   "cell_type": "code",
   "execution_count": 11,
   "id": "41736c95",
   "metadata": {},
   "outputs": [],
   "source": [
    "from sklearn.model_selection import train_test_split\n",
    "from sklearn.naive_bayes import MultinomialNB\n",
    "from sklearn import linear_model\n",
    "from sklearn.ensemble import AdaBoostClassifier\n",
    "\n",
    "X_train, X_test, y_train, y_test = train_test_split(data.iloc[:, 1:3], data['Category'],test_size=0.2, random_state = 0)\n",
    "X_train_title_features = tfidf_title.transform(X_train['Title']).toarray()\n",
    "# X_train_desc_features = tfidf_desc.transform(X_train['Description']).toarray()\n",
    "features = np.concatenate([X_train_title_features], axis=1)"
   ]
  },
  {
   "cell_type": "code",
   "execution_count": 12,
   "id": "4947f019",
   "metadata": {},
   "outputs": [
    {
     "data": {
      "text/html": [
       "<div>\n",
       "<style scoped>\n",
       "    .dataframe tbody tr th:only-of-type {\n",
       "        vertical-align: middle;\n",
       "    }\n",
       "\n",
       "    .dataframe tbody tr th {\n",
       "        vertical-align: top;\n",
       "    }\n",
       "\n",
       "    .dataframe thead th {\n",
       "        text-align: right;\n",
       "    }\n",
       "</style>\n",
       "<table border=\"1\" class=\"dataframe\">\n",
       "  <thead>\n",
       "    <tr style=\"text-align: right;\">\n",
       "      <th></th>\n",
       "      <th>Title</th>\n",
       "      <th>Category</th>\n",
       "    </tr>\n",
       "  </thead>\n",
       "  <tbody>\n",
       "    <tr>\n",
       "      <th>2576</th>\n",
       "      <td>mathematics</td>\n",
       "      <td>Education</td>\n",
       "    </tr>\n",
       "    <tr>\n",
       "      <th>686</th>\n",
       "      <td>abtube ሩታ እና ፍቅር ተደባደቡ አብርሽ ጉድ ሆነ</td>\n",
       "      <td>Entertainment</td>\n",
       "    </tr>\n",
       "    <tr>\n",
       "      <th>2559</th>\n",
       "      <td>become math genius people see math problem mat...</td>\n",
       "      <td>Education</td>\n",
       "    </tr>\n",
       "    <tr>\n",
       "      <th>2328</th>\n",
       "      <td>one line oldest math text hint hide universes</td>\n",
       "      <td>Education</td>\n",
       "    </tr>\n",
       "    <tr>\n",
       "      <th>3425</th>\n",
       "      <td>lec mit j mathematics computer science fall</td>\n",
       "      <td>Education</td>\n",
       "    </tr>\n",
       "  </tbody>\n",
       "</table>\n",
       "</div>"
      ],
      "text/plain": [
       "                                                  Title       Category\n",
       "2576                                        mathematics      Education\n",
       "686                   abtube ሩታ እና ፍቅር ተደባደቡ አብርሽ ጉድ ሆነ  Entertainment\n",
       "2559  become math genius people see math problem mat...      Education\n",
       "2328      one line oldest math text hint hide universes      Education\n",
       "3425        lec mit j mathematics computer science fall      Education"
      ]
     },
     "execution_count": 12,
     "metadata": {},
     "output_type": "execute_result"
    }
   ],
   "source": [
    "X_train.head()"
   ]
  },
  {
   "cell_type": "code",
   "execution_count": 13,
   "id": "d8dcee5b",
   "metadata": {},
   "outputs": [
    {
     "data": {
      "text/plain": [
       "2576        Education\n",
       "686     Entertainment\n",
       "2559        Education\n",
       "2328        Education\n",
       "3425        Education\n",
       "Name: Category, dtype: object"
      ]
     },
     "execution_count": 13,
     "metadata": {},
     "output_type": "execute_result"
    }
   ],
   "source": [
    "y_train.head()"
   ]
  },
  {
   "cell_type": "code",
   "execution_count": 14,
   "id": "e3dd6d5f",
   "metadata": {},
   "outputs": [
    {
     "name": "stdout",
     "output_type": "stream",
     "text": [
      "Found 4272 unique tokens.\n",
      "Shape of data tensor: (3476, 50)\n",
      "Shape of label tensor: (3476, 2)\n"
     ]
    }
   ],
   "source": [
    "from keras.preprocessing.text import Tokenizer\n",
    "from keras.models import Sequential\n",
    "from keras.layers import Dense, Embedding, LSTM, SpatialDropout1D\n",
    "from keras.utils.np_utils import to_categorical\n",
    "from keras.utils import pad_sequences\n",
    "\n",
    "\n",
    "# The maximum number of words to be used. (most frequent)\n",
    "MAX_NB_WORDS = 20000\n",
    "# Max number of words in each complaint.\n",
    "MAX_SEQUENCE_LENGTH = 50\n",
    "# This is fixed.\n",
    "EMBEDDING_DIM = 100\n",
    "\n",
    "# Combining titles and descriptions into a single sentence\n",
    "titles = data['Title'].values\n",
    "# descriptions = data['Description'].values\n",
    "data_for_lstms = []\n",
    "for i in range(len(titles)):\n",
    "    temp_list = [titles[i]]\n",
    "    data_for_lstms.append(' '.join(temp_list))\n",
    "\n",
    "tokenizer = Tokenizer(num_words=MAX_NB_WORDS, filters='!\"#$%&()*+,-./:;<=>?@[\\]^_`{|}~', lower=True)\n",
    "tokenizer.fit_on_texts(data_for_lstms)\n",
    "word_index = tokenizer.word_index\n",
    "print('Found %s unique tokens.' % len(word_index))\n",
    "\n",
    "# Convert the data to padded sequences\n",
    "X = tokenizer.texts_to_sequences(data_for_lstms)\n",
    "X = pad_sequences(X, maxlen=MAX_SEQUENCE_LENGTH)\n",
    "print('Shape of data tensor:', X.shape)\n",
    "\n",
    "# One-hot Encode labels\n",
    "Y = pd.get_dummies(data['Category']).values\n",
    "print('Shape of label tensor:', Y.shape)\n",
    "\n",
    "# Splitting into training and test set\n",
    "X_train, X_test, Y_train, Y_test = train_test_split(X,Y, random_state = 42)"
   ]
  },
  {
   "cell_type": "code",
   "execution_count": 15,
   "id": "a8cbe004",
   "metadata": {},
   "outputs": [
    {
     "name": "stdout",
     "output_type": "stream",
     "text": [
      "Model: \"sequential\"\n",
      "_________________________________________________________________\n",
      " Layer (type)                Output Shape              Param #   \n",
      "=================================================================\n",
      " embedding (Embedding)       (None, 50, 100)           2000000   \n",
      "                                                                 \n",
      " spatial_dropout1d (SpatialD  (None, 50, 100)          0         \n",
      " ropout1D)                                                       \n",
      "                                                                 \n",
      " lstm (LSTM)                 (None, 100)               80400     \n",
      "                                                                 \n",
      " dense (Dense)               (None, 2)                 202       \n",
      "                                                                 \n",
      "=================================================================\n",
      "Total params: 2,080,602\n",
      "Trainable params: 2,080,602\n",
      "Non-trainable params: 0\n",
      "_________________________________________________________________\n",
      "None\n"
     ]
    }
   ],
   "source": [
    "# Define LSTM Model\n",
    "model = Sequential()\n",
    "model.add(Embedding(MAX_NB_WORDS, EMBEDDING_DIM, input_length=X.shape[1]))\n",
    "model.add(SpatialDropout1D(0.2))\n",
    "model.add(LSTM(100, dropout=0.2, recurrent_dropout=0.2))\n",
    "model.add(Dense(2, activation='softmax'))\n",
    "model.compile(loss='categorical_crossentropy', optimizer='adam', metrics=['accuracy'])\n",
    "print(model.summary())"
   ]
  },
  {
   "cell_type": "code",
   "execution_count": 16,
   "id": "9d88c1a0",
   "metadata": {},
   "outputs": [
    {
     "name": "stdout",
     "output_type": "stream",
     "text": [
      "Epoch 1/5\n",
      "37/37 [==============================] - 7s 114ms/step - loss: 0.5900 - accuracy: 0.7460 - val_loss: 0.3480 - val_accuracy: 0.9042\n",
      "Epoch 2/5\n",
      "37/37 [==============================] - 4s 105ms/step - loss: 0.2823 - accuracy: 0.8986 - val_loss: 0.2789 - val_accuracy: 0.9042\n",
      "Epoch 3/5\n",
      "37/37 [==============================] - 4s 95ms/step - loss: 0.2100 - accuracy: 0.9237 - val_loss: 0.2730 - val_accuracy: 0.9119\n",
      "Epoch 4/5\n",
      "37/37 [==============================] - 4s 95ms/step - loss: 0.1666 - accuracy: 0.9399 - val_loss: 0.2871 - val_accuracy: 0.9234\n",
      "Epoch 5/5\n",
      "37/37 [==============================] - 3s 93ms/step - loss: 0.1398 - accuracy: 0.9450 - val_loss: 0.3070 - val_accuracy: 0.9080\n"
     ]
    }
   ],
   "source": [
    "# Training LSTM Model\n",
    "epochs = 5\n",
    "batch_size = 64\n",
    "\n",
    "history = model.fit(X_train, Y_train, epochs=epochs, batch_size=batch_size,validation_split=0.1)"
   ]
  },
  {
   "cell_type": "code",
   "execution_count": 18,
   "id": "9f08390e",
   "metadata": {},
   "outputs": [
    {
     "data": {
      "image/png": "[encoded data removed]",
      "text/plain": [
       "<Figure size 432x288 with 1 Axes>"
      ]
     },
     "metadata": {
      "needs_background": "light"
     },
     "output_type": "display_data"
    },
    {
     "data": {
      "image/png": "[encoded data removed]",
      "text/plain": [
       "<Figure size 432x288 with 1 Axes>"
      ]
     },
     "metadata": {
      "needs_background": "light"
     },
     "output_type": "display_data"
    }
   ],
   "source": [
    "# Plot Loss\n",
    "plt.title('Loss')\n",
    "plt.plot(history.history['loss'], label='train')\n",
    "plt.plot(history.history['val_loss'], label='test')\n",
    "plt.legend()\n",
    "plt.show()\n",
    "\n",
    "# Plot Accuracy\n",
    "accuracy_key = 'accuracy' if 'accuracy' in history.history else 'acc'\n",
    "plt.title('Accuracy')\n",
    "plt.plot(history.history[accuracy_key], label='train')\n",
    "plt.plot(history.history['val_' + accuracy_key], label='test')\n",
    "plt.legend()\n",
    "plt.show()\n"
   ]
  },
  {
   "cell_type": "markdown",
   "id": "0cd99284",
   "metadata": {},
   "source": [
    "## Performance Evaluation"
   ]
  },
  {
   "cell_type": "markdown",
   "id": "5a6d35f2",
   "metadata": {},
   "source": [
    "### LSTM"
   ]
  },
  {
   "cell_type": "code",
   "execution_count": 19,
   "id": "e8d9e36a",
   "metadata": {},
   "outputs": [
    {
     "name": "stdout",
     "output_type": "stream",
     "text": [
      "28/28 [==============================] - 0s 9ms/step\n",
      "               precision    recall  f1-score   support\n",
      "\n",
      "    Education       0.88      0.94      0.91       407\n",
      "Entertainment       0.94      0.89      0.92       462\n",
      "\n",
      "     accuracy                           0.91       869\n",
      "    macro avg       0.91      0.92      0.91       869\n",
      " weighted avg       0.92      0.91      0.91       869\n",
      "\n"
     ]
    },
    {
     "data": {
      "image/png": "[encoded data removed]",
      "text/plain": [
       "<Figure size 720x720 with 2 Axes>"
      ]
     },
     "metadata": {
      "needs_background": "light"
     },
     "output_type": "display_data"
    },
    {
     "name": "stderr",
     "output_type": "stream",
     "text": [
      "C:\\Users\\Raju Ranjan Yadav\\anaconda3\\lib\\site-packages\\sklearn\\utils\\deprecation.py:86: FutureWarning: Function plot_precision_recall_curve is deprecated; This will be removed in v0.5.0. Please use scikitplot.metrics.plot_precision_recall instead.\n",
      "  warnings.warn(msg, category=FutureWarning)\n"
     ]
    },
    {
     "data": {
      "image/png": "[encoded data removed]",
      "text/plain": [
       "<Figure size 432x288 with 1 Axes>"
      ]
     },
     "metadata": {
      "needs_background": "light"
     },
     "output_type": "display_data"
    }
   ],
   "source": [
    "from sklearn import metrics\n",
    "import matplotlib.pyplot as plt\n",
    "import seaborn as sns\n",
    "from sklearn.metrics import confusion_matrix\n",
    "import scikitplot as skplt\n",
    "\n",
    "# # Ensure X_test contains text data in the 'Title' and 'Description' columns\n",
    "# X_test_title_features = tfidf_title.transform(X_test['Title']).toarray()\n",
    "# X_test_desc_features = tfidf_desc.transform(X_test['Description']).toarray()\n",
    "y_probas = model.predict(X_test)\n",
    "y_pred = np.argmax(y_probas, axis=1)\n",
    "y_test = np.argmax(Y_test, axis=1)\n",
    "\n",
    "print(metrics.classification_report(y_test, y_pred, \n",
    "                                    target_names=list(le.classes_)))\n",
    "\n",
    "conf_mat = confusion_matrix(y_test, y_pred)\n",
    "fig, ax = plt.subplots(figsize=(10,10))\n",
    "sns.heatmap(conf_mat, annot=True, fmt='d', xticklabels=list(le.classes_), yticklabels=list(le.classes_))\n",
    "plt.ylabel('Actual')\n",
    "plt.xlabel('Predicted')\n",
    "plt.title('Confusion Matrix - LSTM')\n",
    "plt.show()\n",
    "\n",
    "skplt.metrics.plot_precision_recall_curve(y_test, y_probas)\n",
    "plt.title('Precision-Recall Curve - LSTM')\n",
    "plt.show()\n"
   ]
  },
  {
   "cell_type": "code",
   "execution_count": 20,
   "id": "bd2225d9",
   "metadata": {},
   "outputs": [],
   "source": [
    "import pickle"
   ]
  },
  {
   "cell_type": "code",
   "execution_count": 21,
   "id": "92f1a865",
   "metadata": {},
   "outputs": [],
   "source": [
    "model_directory = 'saved_models/model.h5'\n",
    "model.save(model_directory)"
   ]
  },
  {
   "cell_type": "code",
   "execution_count": 22,
   "id": "60678573",
   "metadata": {},
   "outputs": [],
   "source": [
    "from keras.preprocessing.text import Tokenizer\n",
    "with open('tokenizer.pkl', 'wb') as f:\n",
    "    pickle.dump(tokenizer, f)"
   ]
  },
  {
   "cell_type": "code",
   "execution_count": null,
   "id": "5bcbf59c",
   "metadata": {},
   "outputs": [],
   "source": []
  }
 ],
 "metadata": {
  "kernelspec": {
   "display_name": "Python 3 (ipykernel)",
   "language": "python",
   "name": "python3"
  },
  "language_info": {
   "codemirror_mode": {
    "name": "ipython",
    "version": 3
   },
   "file_extension": ".py",
   "mimetype": "text/x-python",
   "name": "python",
   "nbconvert_exporter": "python",
   "pygments_lexer": "ipython3",
   "version": "3.9.7"
  }
 },
 "nbformat": 4,
 "nbformat_minor": 5
}
