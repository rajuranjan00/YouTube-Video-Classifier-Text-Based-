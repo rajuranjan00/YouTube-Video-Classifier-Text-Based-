{
 "cells": [
  {
   "cell_type": "code",
   "execution_count": 11,
   "id": "2bf04fd8",
   "metadata": {},
   "outputs": [],
   "source": [
    "import pandas as pd\n",
    "import nltk\n",
    "from nltk.corpus import stopwords\n",
    "import re\n",
    "import string\n",
    "from nltk.tokenize import word_tokenize\n",
    "from nltk.corpus import stopwords\n",
    "from nltk.stem.wordnet import WordNetLemmatizer\n",
    "import re\n",
    "import matplotlib.pyplot as plt\n",
    "import seaborn as sns"
   ]
  },
  {
   "cell_type": "code",
   "execution_count": 12,
   "id": "55722a8f",
   "metadata": {},
   "outputs": [
    {
     "data": {
      "text/html": [
       "<div>\n",
       "<style scoped>\n",
       "    .dataframe tbody tr th:only-of-type {\n",
       "        vertical-align: middle;\n",
       "    }\n",
       "\n",
       "    .dataframe tbody tr th {\n",
       "        vertical-align: top;\n",
       "    }\n",
       "\n",
       "    .dataframe thead th {\n",
       "        text-align: right;\n",
       "    }\n",
       "</style>\n",
       "<table border=\"1\" class=\"dataframe\">\n",
       "  <thead>\n",
       "    <tr style=\"text-align: right;\">\n",
       "      <th></th>\n",
       "      <th>Video Id</th>\n",
       "      <th>Title</th>\n",
       "      <th>Description</th>\n",
       "      <th>Category</th>\n",
       "    </tr>\n",
       "  </thead>\n",
       "  <tbody>\n",
       "    <tr>\n",
       "      <th>0</th>\n",
       "      <td>LXXkiUKDK4w</td>\n",
       "      <td>Entertainment | Full Movie | Akshay Kumar, Tam...</td>\n",
       "      <td>SYNOPSIS: Akhil, an underdog and a failure, co...</td>\n",
       "      <td>Entertainment</td>\n",
       "    </tr>\n",
       "    <tr>\n",
       "      <th>1</th>\n",
       "      <td>g2wboV4sPfc</td>\n",
       "      <td>Entertainment 1x01 - Toma polla</td>\n",
       "      <td>A Tomás y Antonio se les ocurre la idea de gra...</td>\n",
       "      <td>Entertainment</td>\n",
       "    </tr>\n",
       "    <tr>\n",
       "      <th>2</th>\n",
       "      <td>m-H0uIH5HHQ</td>\n",
       "      <td>The Jam - That&amp;#39;s Entertainment</td>\n",
       "      <td>Listen to more from The Jam here: https://lnk....</td>\n",
       "      <td>Entertainment</td>\n",
       "    </tr>\n",
       "    <tr>\n",
       "      <th>3</th>\n",
       "      <td>ElcCJZyLjlA</td>\n",
       "      <td>Lesti - Mencintaimu Karena Allah | Official En...</td>\n",
       "      <td>LestiMencintaimuKarenaAllah #Lesti #3dentertai...</td>\n",
       "      <td>Entertainment</td>\n",
       "    </tr>\n",
       "    <tr>\n",
       "      <th>4</th>\n",
       "      <td>ouJyesvlANE</td>\n",
       "      <td>ENTERTAINMENT- 2X01 &amp;quot;Diffferent&amp;quot;</td>\n",
       "      <td>Durante la fiesta de estreno de la serie \"Diff...</td>\n",
       "      <td>Entertainment</td>\n",
       "    </tr>\n",
       "    <tr>\n",
       "      <th>5</th>\n",
       "      <td>C8CULyy7BhM</td>\n",
       "      <td>TEKA KUIH MUIH BERBUKA PUASA !!! COMEL JE SI D...</td>\n",
       "      <td>Why So Serious ??? Wahhh semua segak berbaju m...</td>\n",
       "      <td>Entertainment</td>\n",
       "    </tr>\n",
       "    <tr>\n",
       "      <th>6</th>\n",
       "      <td>QPyDI091ImY</td>\n",
       "      <td>Entertainment 1x02 - La Mentira Del Túnel Antiguo</td>\n",
       "      <td>Mientras intentan solucionar sus problemas eco...</td>\n",
       "      <td>Entertainment</td>\n",
       "    </tr>\n",
       "    <tr>\n",
       "      <th>7</th>\n",
       "      <td>NaN</td>\n",
       "      <td>MBN Entertainment</td>\n",
       "      <td>시청자와 함께하는 '열린 세상, 열린 방송' 유튜브 MBN 공식 예능&amp;교양 채널, ...</td>\n",
       "      <td>Entertainment</td>\n",
       "    </tr>\n",
       "    <tr>\n",
       "      <th>8</th>\n",
       "      <td>C1KYRMqv_ZA</td>\n",
       "      <td>How Netflix And YouTube Changed Entertainment ...</td>\n",
       "      <td>From Netflix and YouTube to AMC, CNBC Marathon...</td>\n",
       "      <td>Entertainment</td>\n",
       "    </tr>\n",
       "    <tr>\n",
       "      <th>9</th>\n",
       "      <td>yD_tIHOdxxY</td>\n",
       "      <td>മാഞ്ഞാളം Boys 🤨😂 - Spoof | Malayalam Vine | Ikru</td>\n",
       "      <td>ikruentertainments #Entertainment #ikru #malay...</td>\n",
       "      <td>Entertainment</td>\n",
       "    </tr>\n",
       "    <tr>\n",
       "      <th>10</th>\n",
       "      <td>lDR0txplahk</td>\n",
       "      <td>TEKA CHEF SELEBRITI TERKENAL !!! RUPANYA MIMI ...</td>\n",
       "      <td>Why So Serious ??? Agak agak masterchef ai tea...</td>\n",
       "      <td>Entertainment</td>\n",
       "    </tr>\n",
       "    <tr>\n",
       "      <th>11</th>\n",
       "      <td>x_DSWpdn8Ww</td>\n",
       "      <td>PULES : SERU BANGET NOBAR AMKA BERSAMA PARA FA...</td>\n",
       "      <td>leslar #rizkybillarlesti #BabyL #leslarenterta...</td>\n",
       "      <td>Entertainment</td>\n",
       "    </tr>\n",
       "    <tr>\n",
       "      <th>12</th>\n",
       "      <td>bPi4YIVW36M</td>\n",
       "      <td>PULES : ROMANTIS MAKSIMAL!!!  LESTI KEJORA TUR...</td>\n",
       "      <td>leslar #rizkybillarlesti #BabyL #leslarenterta...</td>\n",
       "      <td>Entertainment</td>\n",
       "    </tr>\n",
       "    <tr>\n",
       "      <th>13</th>\n",
       "      <td>ZMjorljIkDU</td>\n",
       "      <td>MAGER : ABANG L ABSENIN SATU - SATU NAMA SUPER...</td>\n",
       "      <td>leslar #rizkybillarlesti #BabyL #leslarenterta...</td>\n",
       "      <td>Entertainment</td>\n",
       "    </tr>\n",
       "    <tr>\n",
       "      <th>14</th>\n",
       "      <td>4dYEgvnowzc</td>\n",
       "      <td>TWICE REALITY “TIME TO TWICE” TDOONG Entertain...</td>\n",
       "      <td>TWICE REALITY “TIME TO TWICE” TDOONG Entertain...</td>\n",
       "      <td>Entertainment</td>\n",
       "    </tr>\n",
       "  </tbody>\n",
       "</table>\n",
       "</div>"
      ],
      "text/plain": [
       "       Video Id                                              Title  \\\n",
       "0   LXXkiUKDK4w  Entertainment | Full Movie | Akshay Kumar, Tam...   \n",
       "1   g2wboV4sPfc                    Entertainment 1x01 - Toma polla   \n",
       "2   m-H0uIH5HHQ                 The Jam - That&#39;s Entertainment   \n",
       "3   ElcCJZyLjlA  Lesti - Mencintaimu Karena Allah | Official En...   \n",
       "4   ouJyesvlANE         ENTERTAINMENT- 2X01 &quot;Diffferent&quot;   \n",
       "5   C8CULyy7BhM  TEKA KUIH MUIH BERBUKA PUASA !!! COMEL JE SI D...   \n",
       "6   QPyDI091ImY  Entertainment 1x02 - La Mentira Del Túnel Antiguo   \n",
       "7           NaN                                  MBN Entertainment   \n",
       "8   C1KYRMqv_ZA  How Netflix And YouTube Changed Entertainment ...   \n",
       "9   yD_tIHOdxxY   മാഞ്ഞാളം Boys 🤨😂 - Spoof | Malayalam Vine | Ikru   \n",
       "10  lDR0txplahk  TEKA CHEF SELEBRITI TERKENAL !!! RUPANYA MIMI ...   \n",
       "11  x_DSWpdn8Ww  PULES : SERU BANGET NOBAR AMKA BERSAMA PARA FA...   \n",
       "12  bPi4YIVW36M  PULES : ROMANTIS MAKSIMAL!!!  LESTI KEJORA TUR...   \n",
       "13  ZMjorljIkDU  MAGER : ABANG L ABSENIN SATU - SATU NAMA SUPER...   \n",
       "14  4dYEgvnowzc  TWICE REALITY “TIME TO TWICE” TDOONG Entertain...   \n",
       "\n",
       "                                          Description       Category  \n",
       "0   SYNOPSIS: Akhil, an underdog and a failure, co...  Entertainment  \n",
       "1   A Tomás y Antonio se les ocurre la idea de gra...  Entertainment  \n",
       "2   Listen to more from The Jam here: https://lnk....  Entertainment  \n",
       "3   LestiMencintaimuKarenaAllah #Lesti #3dentertai...  Entertainment  \n",
       "4   Durante la fiesta de estreno de la serie \"Diff...  Entertainment  \n",
       "5   Why So Serious ??? Wahhh semua segak berbaju m...  Entertainment  \n",
       "6   Mientras intentan solucionar sus problemas eco...  Entertainment  \n",
       "7   시청자와 함께하는 '열린 세상, 열린 방송' 유튜브 MBN 공식 예능&교양 채널, ...  Entertainment  \n",
       "8   From Netflix and YouTube to AMC, CNBC Marathon...  Entertainment  \n",
       "9   ikruentertainments #Entertainment #ikru #malay...  Entertainment  \n",
       "10  Why So Serious ??? Agak agak masterchef ai tea...  Entertainment  \n",
       "11  leslar #rizkybillarlesti #BabyL #leslarenterta...  Entertainment  \n",
       "12  leslar #rizkybillarlesti #BabyL #leslarenterta...  Entertainment  \n",
       "13  leslar #rizkybillarlesti #BabyL #leslarenterta...  Entertainment  \n",
       "14  TWICE REALITY “TIME TO TWICE” TDOONG Entertain...  Entertainment  "
      ]
     },
     "execution_count": 12,
     "metadata": {},
     "output_type": "execute_result"
    }
   ],
   "source": [
    "# Import Data\n",
    "data = pd.read_csv('Youtube_raw_data1.csv')\n",
    "# data = data.iloc[:, 1:]     # Remove extra un-named column\n",
    "data.head(15)"
   ]
  },
  {
   "cell_type": "markdown",
   "id": "41c8fa61",
   "metadata": {},
   "source": [
    "# Data Preprocessing and Cleaning"
   ]
  },
  {
   "cell_type": "markdown",
   "id": "9520c25d",
   "metadata": {},
   "source": [
    "## Missing Values"
   ]
  },
  {
   "cell_type": "code",
   "execution_count": 13,
   "id": "31acce10",
   "metadata": {},
   "outputs": [
    {
     "name": "stdout",
     "output_type": "stream",
     "text": [
      "Number of missing values: 528\n"
     ]
    }
   ],
   "source": [
    "# Missing Values\n",
    "num_missing_desc = data.isnull().sum()[2]    # No. of values with msising descriptions\n",
    "print('Number of missing values: ' + str(num_missing_desc))\n",
    "data = data.dropna()"
   ]
  },
  {
   "cell_type": "markdown",
   "id": "765a38b3",
   "metadata": {},
   "source": [
    "## Text Cleaning"
   ]
  },
  {
   "cell_type": "markdown",
   "id": "033f0830",
   "metadata": {},
   "source": [
    "#### The cleaning of the text is performed in the various manner"
   ]
  },
  {
   "cell_type": "code",
   "execution_count": 14,
   "id": "27f80884",
   "metadata": {},
   "outputs": [
    {
     "data": {
      "text/html": [
       "<div>\n",
       "<style scoped>\n",
       "    .dataframe tbody tr th:only-of-type {\n",
       "        vertical-align: middle;\n",
       "    }\n",
       "\n",
       "    .dataframe tbody tr th {\n",
       "        vertical-align: top;\n",
       "    }\n",
       "\n",
       "    .dataframe thead th {\n",
       "        text-align: right;\n",
       "    }\n",
       "</style>\n",
       "<table border=\"1\" class=\"dataframe\">\n",
       "  <thead>\n",
       "    <tr style=\"text-align: right;\">\n",
       "      <th></th>\n",
       "      <th>Video Id</th>\n",
       "      <th>Title</th>\n",
       "      <th>Description</th>\n",
       "      <th>Category</th>\n",
       "    </tr>\n",
       "  </thead>\n",
       "  <tbody>\n",
       "    <tr>\n",
       "      <th>0</th>\n",
       "      <td>LXXkiUKDK4w</td>\n",
       "      <td>Entertainment | Full Movie | Akshay Kumar, Tam...</td>\n",
       "      <td>SYNOPSIS: Akhil, an underdog and a failure, co...</td>\n",
       "      <td>Entertainment</td>\n",
       "    </tr>\n",
       "    <tr>\n",
       "      <th>1</th>\n",
       "      <td>g2wboV4sPfc</td>\n",
       "      <td>Entertainment 1x01 - Toma polla</td>\n",
       "      <td>A Tomás y Antonio se les ocurre la idea de gra...</td>\n",
       "      <td>Entertainment</td>\n",
       "    </tr>\n",
       "    <tr>\n",
       "      <th>2</th>\n",
       "      <td>m-H0uIH5HHQ</td>\n",
       "      <td>The Jam - That&amp;#39;s Entertainment</td>\n",
       "      <td>Listen to more from The Jam here: https://lnk....</td>\n",
       "      <td>Entertainment</td>\n",
       "    </tr>\n",
       "    <tr>\n",
       "      <th>3</th>\n",
       "      <td>ElcCJZyLjlA</td>\n",
       "      <td>Lesti - Mencintaimu Karena Allah | Official En...</td>\n",
       "      <td>LestiMencintaimuKarenaAllah #Lesti #3dentertai...</td>\n",
       "      <td>Entertainment</td>\n",
       "    </tr>\n",
       "    <tr>\n",
       "      <th>4</th>\n",
       "      <td>ouJyesvlANE</td>\n",
       "      <td>ENTERTAINMENT- 2X01 &amp;quot;Diffferent&amp;quot;</td>\n",
       "      <td>Durante la fiesta de estreno de la serie \"Diff...</td>\n",
       "      <td>Entertainment</td>\n",
       "    </tr>\n",
       "    <tr>\n",
       "      <th>5</th>\n",
       "      <td>C8CULyy7BhM</td>\n",
       "      <td>TEKA KUIH MUIH BERBUKA PUASA !!! COMEL JE SI D...</td>\n",
       "      <td>Why So Serious ??? Wahhh semua segak berbaju m...</td>\n",
       "      <td>Entertainment</td>\n",
       "    </tr>\n",
       "    <tr>\n",
       "      <th>6</th>\n",
       "      <td>QPyDI091ImY</td>\n",
       "      <td>Entertainment 1x02 - La Mentira Del Túnel Antiguo</td>\n",
       "      <td>Mientras intentan solucionar sus problemas eco...</td>\n",
       "      <td>Entertainment</td>\n",
       "    </tr>\n",
       "    <tr>\n",
       "      <th>8</th>\n",
       "      <td>C1KYRMqv_ZA</td>\n",
       "      <td>How Netflix And YouTube Changed Entertainment ...</td>\n",
       "      <td>From Netflix and YouTube to AMC, CNBC Marathon...</td>\n",
       "      <td>Entertainment</td>\n",
       "    </tr>\n",
       "    <tr>\n",
       "      <th>9</th>\n",
       "      <td>yD_tIHOdxxY</td>\n",
       "      <td>മാഞ്ഞാളം Boys 🤨😂 - Spoof | Malayalam Vine | Ikru</td>\n",
       "      <td>ikruentertainments #Entertainment #ikru #malay...</td>\n",
       "      <td>Entertainment</td>\n",
       "    </tr>\n",
       "    <tr>\n",
       "      <th>10</th>\n",
       "      <td>lDR0txplahk</td>\n",
       "      <td>TEKA CHEF SELEBRITI TERKENAL !!! RUPANYA MIMI ...</td>\n",
       "      <td>Why So Serious ??? Agak agak masterchef ai tea...</td>\n",
       "      <td>Entertainment</td>\n",
       "    </tr>\n",
       "    <tr>\n",
       "      <th>11</th>\n",
       "      <td>x_DSWpdn8Ww</td>\n",
       "      <td>PULES : SERU BANGET NOBAR AMKA BERSAMA PARA FA...</td>\n",
       "      <td>leslar #rizkybillarlesti #BabyL #leslarenterta...</td>\n",
       "      <td>Entertainment</td>\n",
       "    </tr>\n",
       "    <tr>\n",
       "      <th>12</th>\n",
       "      <td>bPi4YIVW36M</td>\n",
       "      <td>PULES : ROMANTIS MAKSIMAL!!!  LESTI KEJORA TUR...</td>\n",
       "      <td>leslar #rizkybillarlesti #BabyL #leslarenterta...</td>\n",
       "      <td>Entertainment</td>\n",
       "    </tr>\n",
       "    <tr>\n",
       "      <th>13</th>\n",
       "      <td>ZMjorljIkDU</td>\n",
       "      <td>MAGER : ABANG L ABSENIN SATU - SATU NAMA SUPER...</td>\n",
       "      <td>leslar #rizkybillarlesti #BabyL #leslarenterta...</td>\n",
       "      <td>Entertainment</td>\n",
       "    </tr>\n",
       "    <tr>\n",
       "      <th>14</th>\n",
       "      <td>4dYEgvnowzc</td>\n",
       "      <td>TWICE REALITY “TIME TO TWICE” TDOONG Entertain...</td>\n",
       "      <td>TWICE REALITY “TIME TO TWICE” TDOONG Entertain...</td>\n",
       "      <td>Entertainment</td>\n",
       "    </tr>\n",
       "    <tr>\n",
       "      <th>15</th>\n",
       "      <td>qEAeq-eW4Gw</td>\n",
       "      <td>NEPALI ROCKSTAR ( Rockstar Saila ) | Garima En...</td>\n",
       "      <td>PALDU 2.0 https://youtube.com/@Paldensherpa23?...</td>\n",
       "      <td>Entertainment</td>\n",
       "    </tr>\n",
       "  </tbody>\n",
       "</table>\n",
       "</div>"
      ],
      "text/plain": [
       "       Video Id                                              Title  \\\n",
       "0   LXXkiUKDK4w  Entertainment | Full Movie | Akshay Kumar, Tam...   \n",
       "1   g2wboV4sPfc                    Entertainment 1x01 - Toma polla   \n",
       "2   m-H0uIH5HHQ                 The Jam - That&#39;s Entertainment   \n",
       "3   ElcCJZyLjlA  Lesti - Mencintaimu Karena Allah | Official En...   \n",
       "4   ouJyesvlANE         ENTERTAINMENT- 2X01 &quot;Diffferent&quot;   \n",
       "5   C8CULyy7BhM  TEKA KUIH MUIH BERBUKA PUASA !!! COMEL JE SI D...   \n",
       "6   QPyDI091ImY  Entertainment 1x02 - La Mentira Del Túnel Antiguo   \n",
       "8   C1KYRMqv_ZA  How Netflix And YouTube Changed Entertainment ...   \n",
       "9   yD_tIHOdxxY   മാഞ്ഞാളം Boys 🤨😂 - Spoof | Malayalam Vine | Ikru   \n",
       "10  lDR0txplahk  TEKA CHEF SELEBRITI TERKENAL !!! RUPANYA MIMI ...   \n",
       "11  x_DSWpdn8Ww  PULES : SERU BANGET NOBAR AMKA BERSAMA PARA FA...   \n",
       "12  bPi4YIVW36M  PULES : ROMANTIS MAKSIMAL!!!  LESTI KEJORA TUR...   \n",
       "13  ZMjorljIkDU  MAGER : ABANG L ABSENIN SATU - SATU NAMA SUPER...   \n",
       "14  4dYEgvnowzc  TWICE REALITY “TIME TO TWICE” TDOONG Entertain...   \n",
       "15  qEAeq-eW4Gw  NEPALI ROCKSTAR ( Rockstar Saila ) | Garima En...   \n",
       "\n",
       "                                          Description       Category  \n",
       "0   SYNOPSIS: Akhil, an underdog and a failure, co...  Entertainment  \n",
       "1   A Tomás y Antonio se les ocurre la idea de gra...  Entertainment  \n",
       "2   Listen to more from The Jam here: https://lnk....  Entertainment  \n",
       "3   LestiMencintaimuKarenaAllah #Lesti #3dentertai...  Entertainment  \n",
       "4   Durante la fiesta de estreno de la serie \"Diff...  Entertainment  \n",
       "5   Why So Serious ??? Wahhh semua segak berbaju m...  Entertainment  \n",
       "6   Mientras intentan solucionar sus problemas eco...  Entertainment  \n",
       "8   From Netflix and YouTube to AMC, CNBC Marathon...  Entertainment  \n",
       "9   ikruentertainments #Entertainment #ikru #malay...  Entertainment  \n",
       "10  Why So Serious ??? Agak agak masterchef ai tea...  Entertainment  \n",
       "11  leslar #rizkybillarlesti #BabyL #leslarenterta...  Entertainment  \n",
       "12  leslar #rizkybillarlesti #BabyL #leslarenterta...  Entertainment  \n",
       "13  leslar #rizkybillarlesti #BabyL #leslarenterta...  Entertainment  \n",
       "14  TWICE REALITY “TIME TO TWICE” TDOONG Entertain...  Entertainment  \n",
       "15  PALDU 2.0 https://youtube.com/@Paldensherpa23?...  Entertainment  "
      ]
     },
     "execution_count": 14,
     "metadata": {},
     "output_type": "execute_result"
    }
   ],
   "source": [
    "data.head(15)"
   ]
  },
  {
   "cell_type": "code",
   "execution_count": 15,
   "id": "99ab35cd",
   "metadata": {},
   "outputs": [],
   "source": [
    "# Change to lowercase\n",
    "data['Title'] = data['Title'].map(lambda x: x.lower())\n",
    "data['Description'] = data['Description'].map(lambda x: x.lower())\n",
    "\n",
    "# Remove numbers\n",
    "data['Title'] = data['Title'].map(lambda x: re.sub(r'\\d+', '', x))\n",
    "data['Description'] = data['Description'].map(lambda x: re.sub(r'\\d+', '', x))\n",
    "\n",
    "# Remove Punctuation\n",
    "data['Title']  = data['Title'].map(lambda x: x.translate(x.maketrans('', '', string.punctuation)))\n",
    "data['Description']  = data['Description'].map(lambda x: x.translate(x.maketrans('', '', string.punctuation)))\n",
    "\n",
    "# Remove white spaces\n",
    "data['Title'] = data['Title'].map(lambda x: x.strip())\n",
    "data['Description'] = data['Description'].map(lambda x: x.strip())\n",
    "\n",
    "# Tokenize into words\n",
    "data['Title'] = data['Title'].map(lambda x: word_tokenize(x))\n",
    "data['Description'] = data['Description'].map(lambda x: word_tokenize(x))\n",
    " \n",
    "# Remove non alphabetic tokens\n",
    "data['Title'] = data['Title'].map(lambda x: [word for word in x if word.isalpha()])\n",
    "data['Description'] = data['Description'].map(lambda x: [word for word in x if word.isalpha()])\n",
    "# filter out stop words\n",
    "stop_words = set(stopwords.words('english'))\n",
    "data['Title'] = data['Title'].map(lambda x: [w for w in x if not w in stop_words])\n",
    "data['Description'] = data['Description'].map(lambda x: [w for w in x if not w in stop_words])\n",
    "\n",
    "# Word Lemmatization\n",
    "lem = WordNetLemmatizer()\n",
    "data['Title'] = data['Title'].map(lambda x: [lem.lemmatize(word,\"v\") for word in x])\n",
    "data['Description'] = data['Description'].map(lambda x: [lem.lemmatize(word,\"v\") for word in x])\n",
    "\n",
    "# Turn lists back to string\n",
    "data['Title'] = data['Title'].map(lambda x: ' '.join(x))\n",
    "data['Description'] = data['Description'].map(lambda x: ' '.join(x))"
   ]
  },
  {
   "cell_type": "code",
   "execution_count": 16,
   "id": "ad6aee1a",
   "metadata": {},
   "outputs": [
    {
     "data": {
      "text/html": [
       "<div>\n",
       "<style scoped>\n",
       "    .dataframe tbody tr th:only-of-type {\n",
       "        vertical-align: middle;\n",
       "    }\n",
       "\n",
       "    .dataframe tbody tr th {\n",
       "        vertical-align: top;\n",
       "    }\n",
       "\n",
       "    .dataframe thead th {\n",
       "        text-align: right;\n",
       "    }\n",
       "</style>\n",
       "<table border=\"1\" class=\"dataframe\">\n",
       "  <thead>\n",
       "    <tr style=\"text-align: right;\">\n",
       "      <th></th>\n",
       "      <th>Video Id</th>\n",
       "      <th>Title</th>\n",
       "      <th>Description</th>\n",
       "      <th>Category</th>\n",
       "    </tr>\n",
       "  </thead>\n",
       "  <tbody>\n",
       "    <tr>\n",
       "      <th>0</th>\n",
       "      <td>LXXkiUKDK4w</td>\n",
       "      <td>entertainment full movie akshay kumar tamannaa...</td>\n",
       "      <td>synopsis akhil underdog failure come know real...</td>\n",
       "      <td>Entertainment</td>\n",
       "    </tr>\n",
       "    <tr>\n",
       "      <th>1</th>\n",
       "      <td>g2wboV4sPfc</td>\n",
       "      <td>entertainment x toma polla</td>\n",
       "      <td>tomás antonio se les ocurre la idea de grabar ...</td>\n",
       "      <td>Entertainment</td>\n",
       "    </tr>\n",
       "    <tr>\n",
       "      <th>2</th>\n",
       "      <td>m-H0uIH5HHQ</td>\n",
       "      <td>jam thats entertainment</td>\n",
       "      <td>listen jam httpslnktobxlle learn jam legendary...</td>\n",
       "      <td>Entertainment</td>\n",
       "    </tr>\n",
       "    <tr>\n",
       "      <th>3</th>\n",
       "      <td>ElcCJZyLjlA</td>\n",
       "      <td>lesti mencintaimu karena allah official entert...</td>\n",
       "      <td>lestimencintaimukarenaallah lesti dentertainme...</td>\n",
       "      <td>Entertainment</td>\n",
       "    </tr>\n",
       "    <tr>\n",
       "      <th>4</th>\n",
       "      <td>ouJyesvlANE</td>\n",
       "      <td>entertainment x quotdiffferentquot</td>\n",
       "      <td>durante la fiesta de estreno de la serie difff...</td>\n",
       "      <td>Entertainment</td>\n",
       "    </tr>\n",
       "    <tr>\n",
       "      <th>5</th>\n",
       "      <td>C8CULyy7BhM</td>\n",
       "      <td>teka kuih muih berbuka puasa comel je si dia a...</td>\n",
       "      <td>serious wahhh semua segak berbaju melayu bulan...</td>\n",
       "      <td>Entertainment</td>\n",
       "    </tr>\n",
       "    <tr>\n",
       "      <th>6</th>\n",
       "      <td>QPyDI091ImY</td>\n",
       "      <td>entertainment x la mentira del túnel antiguo</td>\n",
       "      <td>mientras intentan solucionar sus problemas eco...</td>\n",
       "      <td>Entertainment</td>\n",
       "    </tr>\n",
       "    <tr>\n",
       "      <th>8</th>\n",
       "      <td>C1KYRMqv_ZA</td>\n",
       "      <td>netflix youtube change entertainment forever c...</td>\n",
       "      <td>netflix youtube amc cnbc marathon explore futu...</td>\n",
       "      <td>Entertainment</td>\n",
       "    </tr>\n",
       "    <tr>\n",
       "      <th>9</th>\n",
       "      <td>yD_tIHOdxxY</td>\n",
       "      <td>boys spoof malayalam vine ikru</td>\n",
       "      <td>ikruentertainments entertainment ikru malayala...</td>\n",
       "      <td>Entertainment</td>\n",
       "    </tr>\n",
       "    <tr>\n",
       "      <th>10</th>\n",
       "      <td>lDR0txplahk</td>\n",
       "      <td>teka chef selebriti terkenal rupanya mimi juar...</td>\n",
       "      <td>serious agak agak masterchef ai team kembali k...</td>\n",
       "      <td>Entertainment</td>\n",
       "    </tr>\n",
       "    <tr>\n",
       "      <th>11</th>\n",
       "      <td>x_DSWpdn8Ww</td>\n",
       "      <td>pule seru banget nobar amka bersama para fan a...</td>\n",
       "      <td>leslar rizkybillarlesti babyl leslarentertainm...</td>\n",
       "      <td>Entertainment</td>\n",
       "    </tr>\n",
       "    <tr>\n",
       "      <th>12</th>\n",
       "      <td>bPi4YIVW36M</td>\n",
       "      <td>pule romantis maksimal lesti kejora turun pang...</td>\n",
       "      <td>leslar rizkybillarlesti babyl leslarentertainm...</td>\n",
       "      <td>Entertainment</td>\n",
       "    </tr>\n",
       "    <tr>\n",
       "      <th>13</th>\n",
       "      <td>ZMjorljIkDU</td>\n",
       "      <td>mager abang l absenin satu satu nama superhero...</td>\n",
       "      <td>leslar rizkybillarlesti babyl leslarentertainm...</td>\n",
       "      <td>Entertainment</td>\n",
       "    </tr>\n",
       "    <tr>\n",
       "      <th>14</th>\n",
       "      <td>4dYEgvnowzc</td>\n",
       "      <td>twice reality time twice tdoong entertainment ...</td>\n",
       "      <td>twice reality time twice tdoong entertainment ...</td>\n",
       "      <td>Entertainment</td>\n",
       "    </tr>\n",
       "    <tr>\n",
       "      <th>15</th>\n",
       "      <td>qEAeq-eW4Gw</td>\n",
       "      <td>nepali rockstar rockstar saila garima entertai...</td>\n",
       "      <td>paldu httpsyoutubecompaldensherpasiexkmwdqmalm...</td>\n",
       "      <td>Entertainment</td>\n",
       "    </tr>\n",
       "  </tbody>\n",
       "</table>\n",
       "</div>"
      ],
      "text/plain": [
       "       Video Id                                              Title  \\\n",
       "0   LXXkiUKDK4w  entertainment full movie akshay kumar tamannaa...   \n",
       "1   g2wboV4sPfc                         entertainment x toma polla   \n",
       "2   m-H0uIH5HHQ                            jam thats entertainment   \n",
       "3   ElcCJZyLjlA  lesti mencintaimu karena allah official entert...   \n",
       "4   ouJyesvlANE                 entertainment x quotdiffferentquot   \n",
       "5   C8CULyy7BhM  teka kuih muih berbuka puasa comel je si dia a...   \n",
       "6   QPyDI091ImY       entertainment x la mentira del túnel antiguo   \n",
       "8   C1KYRMqv_ZA  netflix youtube change entertainment forever c...   \n",
       "9   yD_tIHOdxxY                     boys spoof malayalam vine ikru   \n",
       "10  lDR0txplahk  teka chef selebriti terkenal rupanya mimi juar...   \n",
       "11  x_DSWpdn8Ww  pule seru banget nobar amka bersama para fan a...   \n",
       "12  bPi4YIVW36M  pule romantis maksimal lesti kejora turun pang...   \n",
       "13  ZMjorljIkDU  mager abang l absenin satu satu nama superhero...   \n",
       "14  4dYEgvnowzc  twice reality time twice tdoong entertainment ...   \n",
       "15  qEAeq-eW4Gw  nepali rockstar rockstar saila garima entertai...   \n",
       "\n",
       "                                          Description       Category  \n",
       "0   synopsis akhil underdog failure come know real...  Entertainment  \n",
       "1   tomás antonio se les ocurre la idea de grabar ...  Entertainment  \n",
       "2   listen jam httpslnktobxlle learn jam legendary...  Entertainment  \n",
       "3   lestimencintaimukarenaallah lesti dentertainme...  Entertainment  \n",
       "4   durante la fiesta de estreno de la serie difff...  Entertainment  \n",
       "5   serious wahhh semua segak berbaju melayu bulan...  Entertainment  \n",
       "6   mientras intentan solucionar sus problemas eco...  Entertainment  \n",
       "8   netflix youtube amc cnbc marathon explore futu...  Entertainment  \n",
       "9   ikruentertainments entertainment ikru malayala...  Entertainment  \n",
       "10  serious agak agak masterchef ai team kembali k...  Entertainment  \n",
       "11  leslar rizkybillarlesti babyl leslarentertainm...  Entertainment  \n",
       "12  leslar rizkybillarlesti babyl leslarentertainm...  Entertainment  \n",
       "13  leslar rizkybillarlesti babyl leslarentertainm...  Entertainment  \n",
       "14  twice reality time twice tdoong entertainment ...  Entertainment  \n",
       "15  paldu httpsyoutubecompaldensherpasiexkmwdqmalm...  Entertainment  "
      ]
     },
     "execution_count": 16,
     "metadata": {},
     "output_type": "execute_result"
    }
   ],
   "source": [
    "data.head(15)"
   ]
  },
  {
   "cell_type": "markdown",
   "id": "e8648c6e",
   "metadata": {},
   "source": [
    "## Data Preprocessing"
   ]
  },
  {
   "cell_type": "markdown",
   "id": "2b1ec062",
   "metadata": {},
   "source": [
    "### Label Encoding classes"
   ]
  },
  {
   "cell_type": "code",
   "execution_count": 17,
   "id": "5ad0da87",
   "metadata": {},
   "outputs": [
    {
     "data": {
      "text/html": [
       "<div>\n",
       "<style scoped>\n",
       "    .dataframe tbody tr th:only-of-type {\n",
       "        vertical-align: middle;\n",
       "    }\n",
       "\n",
       "    .dataframe tbody tr th {\n",
       "        vertical-align: top;\n",
       "    }\n",
       "\n",
       "    .dataframe thead th {\n",
       "        text-align: right;\n",
       "    }\n",
       "</style>\n",
       "<table border=\"1\" class=\"dataframe\">\n",
       "  <thead>\n",
       "    <tr style=\"text-align: right;\">\n",
       "      <th></th>\n",
       "      <th>Video Id</th>\n",
       "      <th>Title</th>\n",
       "      <th>Description</th>\n",
       "      <th>Category</th>\n",
       "    </tr>\n",
       "  </thead>\n",
       "  <tbody>\n",
       "    <tr>\n",
       "      <th>0</th>\n",
       "      <td>LXXkiUKDK4w</td>\n",
       "      <td>entertainment full movie akshay kumar tamannaa...</td>\n",
       "      <td>synopsis akhil underdog failure come know real...</td>\n",
       "      <td>1</td>\n",
       "    </tr>\n",
       "    <tr>\n",
       "      <th>1</th>\n",
       "      <td>g2wboV4sPfc</td>\n",
       "      <td>entertainment x toma polla</td>\n",
       "      <td>tomás antonio se les ocurre la idea de grabar ...</td>\n",
       "      <td>1</td>\n",
       "    </tr>\n",
       "    <tr>\n",
       "      <th>2</th>\n",
       "      <td>m-H0uIH5HHQ</td>\n",
       "      <td>jam thats entertainment</td>\n",
       "      <td>listen jam httpslnktobxlle learn jam legendary...</td>\n",
       "      <td>1</td>\n",
       "    </tr>\n",
       "    <tr>\n",
       "      <th>3</th>\n",
       "      <td>ElcCJZyLjlA</td>\n",
       "      <td>lesti mencintaimu karena allah official entert...</td>\n",
       "      <td>lestimencintaimukarenaallah lesti dentertainme...</td>\n",
       "      <td>1</td>\n",
       "    </tr>\n",
       "    <tr>\n",
       "      <th>4</th>\n",
       "      <td>ouJyesvlANE</td>\n",
       "      <td>entertainment x quotdiffferentquot</td>\n",
       "      <td>durante la fiesta de estreno de la serie difff...</td>\n",
       "      <td>1</td>\n",
       "    </tr>\n",
       "  </tbody>\n",
       "</table>\n",
       "</div>"
      ],
      "text/plain": [
       "      Video Id                                              Title  \\\n",
       "0  LXXkiUKDK4w  entertainment full movie akshay kumar tamannaa...   \n",
       "1  g2wboV4sPfc                         entertainment x toma polla   \n",
       "2  m-H0uIH5HHQ                            jam thats entertainment   \n",
       "3  ElcCJZyLjlA  lesti mencintaimu karena allah official entert...   \n",
       "4  ouJyesvlANE                 entertainment x quotdiffferentquot   \n",
       "\n",
       "                                         Description  Category  \n",
       "0  synopsis akhil underdog failure come know real...         1  \n",
       "1  tomás antonio se les ocurre la idea de grabar ...         1  \n",
       "2  listen jam httpslnktobxlle learn jam legendary...         1  \n",
       "3  lestimencintaimukarenaallah lesti dentertainme...         1  \n",
       "4  durante la fiesta de estreno de la serie difff...         1  "
      ]
     },
     "execution_count": 17,
     "metadata": {},
     "output_type": "execute_result"
    }
   ],
   "source": [
    "# Encode classes\n",
    "from sklearn.preprocessing import LabelEncoder\n",
    "le = LabelEncoder()\n",
    "le.fit(data.Category)\n",
    "data.Category = le.transform(data.Category)\n",
    "data.head(5)"
   ]
  },
  {
   "cell_type": "markdown",
   "id": "ae7cb24e",
   "metadata": {},
   "source": [
    "### TF-IDF Text Vectorization"
   ]
  },
  {
   "cell_type": "code",
   "execution_count": 18,
   "id": "a80013f9",
   "metadata": {},
   "outputs": [
    {
     "name": "stdout",
     "output_type": "stream",
     "text": [
      "Title Features Shape: (3053, 1394)\n",
      "Description Features Shape: (3053, 2448)\n"
     ]
    }
   ],
   "source": [
    "# TF-IDF\n",
    "from sklearn.feature_extraction.text import TfidfVectorizer\n",
    "tfidf_title = TfidfVectorizer(sublinear_tf=True, min_df=5, norm='l2', encoding='latin-1', ngram_range=(1, 2), stop_words='english')\n",
    "tfidf_desc = TfidfVectorizer(sublinear_tf=True, min_df=5, norm='l2', encoding='latin-1', ngram_range=(1, 2), stop_words='english')\n",
    "labels = data.Category\n",
    "features_title = tfidf_title.fit_transform(data.Title).toarray()\n",
    "features_description = tfidf_desc.fit_transform(data.Description).toarray()\n",
    "print('Title Features Shape: ' + str(features_title.shape))\n",
    "print('Description Features Shape: ' + str(features_description.shape))"
   ]
  },
  {
   "cell_type": "markdown",
   "id": "83b58d5e",
   "metadata": {},
   "source": [
    "### Data Analysis and Feature Exploration"
   ]
  },
  {
   "cell_type": "code",
   "execution_count": 19,
   "id": "f214b6bc",
   "metadata": {},
   "outputs": [
    {
     "data": {
      "image/png": "[encoded data removed]",
      "text/plain": [
       "<Figure size 720x432 with 1 Axes>"
      ]
     },
     "metadata": {
      "needs_background": "light"
     },
     "output_type": "display_data"
    }
   ],
   "source": [
    "category_mapping = {\n",
    "    0: 'Education',\n",
    "    1: 'Entertainment',\n",
    "    \n",
    "    # Add more mappings as needed\n",
    "}\n",
    "\n",
    "# Replace numeric category names with word representations\n",
    "data['Category'] = data['Category'].map(category_mapping)\n",
    "\n",
    "# Plotting class distribution with different colors for each category\n",
    "plt.figure(figsize=(10, 6))\n",
    "sns.countplot(data=data, x='Category', order=data['Category'].value_counts().index, palette='viridis')\n",
    "plt.title('Number of samples for each class')\n",
    "plt.xlabel('Category')\n",
    "plt.ylabel('Number of Samples')\n",
    "plt.xticks(rotation=45, ha='right')  # Rotate x-axis labels for better readability\n",
    "plt.tight_layout()\n",
    "plt.show()"
   ]
  },
  {
   "cell_type": "markdown",
   "id": "b464831f",
   "metadata": {},
   "source": [
    "### Now let us see if the features are correctly extracted from the text data by checking the most important features for each class "
   ]
  },
  {
   "cell_type": "code",
   "execution_count": 20,
   "id": "9866e564",
   "metadata": {},
   "outputs": [
    {
     "name": "stdout",
     "output_type": "stream",
     "text": [
      "# 'Education':\n",
      "Most correlated unigrams:\n",
      "------------------------------\n",
      ". learn\n",
      ". mathematics\n",
      ". math\n",
      ". entertainment\n",
      ". entertaiment\n",
      "Most correlated bigrams:\n",
      "------------------------------\n",
      ". short entertaiment\n",
      ". news pt\n",
      ". entertaiment news\n",
      ". entertaiment short\n",
      ". math antic\n",
      "\n",
      "\n",
      "# 'Entertainment':\n",
      "Most correlated unigrams:\n",
      "------------------------------\n",
      ". learn\n",
      ". mathematics\n",
      ". math\n",
      ". entertainment\n",
      ". entertaiment\n",
      "Most correlated bigrams:\n",
      "------------------------------\n",
      ". short entertaiment\n",
      ". news pt\n",
      ". entertaiment news\n",
      ". entertaiment short\n",
      ". math antic\n",
      "\n",
      "\n"
     ]
    }
   ],
   "source": [
    "# Best 5 keywords for each class using Title Feaures\n",
    "from sklearn.feature_selection import chi2\n",
    "import numpy as np\n",
    "N = 5\n",
    "for current_class in list(le.classes_):\n",
    "    current_class_id = le.transform([current_class])[0]\n",
    "    features_chi2 = chi2(features_title, labels == current_class_id)\n",
    "    indices = np.argsort(features_chi2[0])\n",
    "    feature_names = np.array(tfidf_title.get_feature_names())[indices]\n",
    "    unigrams = [v for v in feature_names if len(v.split(' ')) == 1]\n",
    "    bigrams = [v for v in feature_names if len(v.split(' ')) == 2]\n",
    "    print(\"# '{}':\".format(current_class))\n",
    "    print(\"Most correlated unigrams:\")\n",
    "    print('-' *30)\n",
    "    print('. {}'.format('\\n. '.join(unigrams[-N:])))\n",
    "    print(\"Most correlated bigrams:\")\n",
    "    print('-' *30)\n",
    "    print('. {}'.format('\\n. '.join(bigrams[-N:])))\n",
    "    print(\"\\n\")"
   ]
  },
  {
   "cell_type": "code",
   "execution_count": 21,
   "id": "3218c82c",
   "metadata": {},
   "outputs": [
    {
     "name": "stdout",
     "output_type": "stream",
     "text": [
      "# 'Education':\n",
      "Most correlated unigrams:\n",
      "------------------------------\n",
      ". official\n",
      ". math\n",
      ". learn\n",
      ". entertainment\n",
      ". entertaiment\n",
      "Most correlated bigrams:\n",
      "------------------------------\n",
      ". mathanticscom visit\n",
      ". subscription base\n",
      ". math videos\n",
      ". film producers\n",
      ". telugu film\n",
      "\n",
      "\n",
      "# 'Entertainment':\n",
      "Most correlated unigrams:\n",
      "------------------------------\n",
      ". official\n",
      ". math\n",
      ". learn\n",
      ". entertainment\n",
      ". entertaiment\n",
      "Most correlated bigrams:\n",
      "------------------------------\n",
      ". mathanticscom visit\n",
      ". subscription base\n",
      ". math videos\n",
      ". film producers\n",
      ". telugu film\n",
      "\n",
      "\n"
     ]
    }
   ],
   "source": [
    "# Best 5 keywords for each class using Description Features\n",
    "from sklearn.feature_selection import chi2\n",
    "import numpy as np\n",
    "N = 5\n",
    "for current_class in list(le.classes_):\n",
    "    current_class_id = le.transform([current_class])[0]\n",
    "    features_chi2 = chi2(features_description, labels == current_class_id)\n",
    "    indices = np.argsort(features_chi2[0])\n",
    "    feature_names = np.array(tfidf_desc.get_feature_names())[indices]\n",
    "    unigrams = [v for v in feature_names if len(v.split(' ')) == 1]\n",
    "    bigrams = [v for v in feature_names if len(v.split(' ')) == 2]\n",
    "    print(\"# '{}':\".format(current_class))\n",
    "    print(\"Most correlated unigrams:\")\n",
    "    print('-' *30)\n",
    "    print('. {}'.format('\\n. '.join(unigrams[-N:])))\n",
    "    print(\"Most correlated bigrams:\")\n",
    "    print('-' *30)\n",
    "    print('. {}'.format('\\n. '.join(bigrams[-N:])))\n",
    "    print(\"\\n\")"
   ]
  },
  {
   "cell_type": "markdown",
   "id": "588c00d6",
   "metadata": {},
   "source": [
    "## Modeling and Training"
   ]
  },
  {
   "cell_type": "markdown",
   "id": "fbc3c533",
   "metadata": {},
   "source": [
    "### The features from both the title and description are extracted separately, and then combined to create a final feature matrix."
   ]
  },
  {
   "cell_type": "code",
   "execution_count": 22,
   "id": "41736c95",
   "metadata": {},
   "outputs": [],
   "source": [
    "from sklearn.model_selection import train_test_split\n",
    "from sklearn.naive_bayes import MultinomialNB\n",
    "from sklearn import linear_model\n",
    "from sklearn.ensemble import AdaBoostClassifier\n",
    "\n",
    "X_train, X_test, y_train, y_test = train_test_split(data.iloc[:, 1:3], data['Category'],test_size=0.2, random_state = 0)\n",
    "X_train_title_features = tfidf_title.transform(X_train['Title']).toarray()\n",
    "X_train_desc_features = tfidf_desc.transform(X_train['Description']).toarray()\n",
    "features = np.concatenate([X_train_title_features, X_train_desc_features], axis=1)"
   ]
  },
  {
   "cell_type": "code",
   "execution_count": 23,
   "id": "4947f019",
   "metadata": {},
   "outputs": [
    {
     "data": {
      "text/html": [
       "<div>\n",
       "<style scoped>\n",
       "    .dataframe tbody tr th:only-of-type {\n",
       "        vertical-align: middle;\n",
       "    }\n",
       "\n",
       "    .dataframe tbody tr th {\n",
       "        vertical-align: top;\n",
       "    }\n",
       "\n",
       "    .dataframe thead th {\n",
       "        text-align: right;\n",
       "    }\n",
       "</style>\n",
       "<table border=\"1\" class=\"dataframe\">\n",
       "  <thead>\n",
       "    <tr style=\"text-align: right;\">\n",
       "      <th></th>\n",
       "      <th>Title</th>\n",
       "      <th>Description</th>\n",
       "    </tr>\n",
       "  </thead>\n",
       "  <tbody>\n",
       "    <tr>\n",
       "      <th>2294</th>\n",
       "      <td>everything data science</td>\n",
       "      <td>video give resources need learn data science z...</td>\n",
       "    </tr>\n",
       "    <tr>\n",
       "      <th>3509</th>\n",
       "      <td>cc weeks math geometry</td>\n",
       "      <td>classical conversations weeks math geometry</td>\n",
       "    </tr>\n",
       "    <tr>\n",
       "      <th>1772</th>\n",
       "      <td>introduction mathematical think complete course</td>\n",
       "      <td>learn think way mathematicians powerful cognit...</td>\n",
       "    </tr>\n",
       "    <tr>\n",
       "      <th>3284</th>\n",
       "      <td>math antic scientific notation</td>\n",
       "      <td>learn mathanticscom visit httpwwwmathanticscom...</td>\n",
       "    </tr>\n",
       "    <tr>\n",
       "      <th>3502</th>\n",
       "      <td>tlm fraction tlm fraction activityeasy activit...</td>\n",
       "      <td>fraction house activity school tlm maths tlm f...</td>\n",
       "    </tr>\n",
       "  </tbody>\n",
       "</table>\n",
       "</div>"
      ],
      "text/plain": [
       "                                                  Title  \\\n",
       "2294                            everything data science   \n",
       "3509                             cc weeks math geometry   \n",
       "1772    introduction mathematical think complete course   \n",
       "3284                     math antic scientific notation   \n",
       "3502  tlm fraction tlm fraction activityeasy activit...   \n",
       "\n",
       "                                            Description  \n",
       "2294  video give resources need learn data science z...  \n",
       "3509        classical conversations weeks math geometry  \n",
       "1772  learn think way mathematicians powerful cognit...  \n",
       "3284  learn mathanticscom visit httpwwwmathanticscom...  \n",
       "3502  fraction house activity school tlm maths tlm f...  "
      ]
     },
     "execution_count": 23,
     "metadata": {},
     "output_type": "execute_result"
    }
   ],
   "source": [
    "X_train.head()"
   ]
  },
  {
   "cell_type": "code",
   "execution_count": 24,
   "id": "d8dcee5b",
   "metadata": {},
   "outputs": [
    {
     "data": {
      "text/plain": [
       "2294    Education\n",
       "3509    Education\n",
       "1772    Education\n",
       "3284    Education\n",
       "3502    Education\n",
       "Name: Category, dtype: object"
      ]
     },
     "execution_count": 24,
     "metadata": {},
     "output_type": "execute_result"
    }
   ],
   "source": [
    "y_train.head()"
   ]
  },
  {
   "cell_type": "code",
   "execution_count": 25,
   "id": "217cddcc",
   "metadata": {},
   "outputs": [],
   "source": [
    "# Naive Bayes\n",
    "nb = MultinomialNB().fit(features, y_train)\n",
    "# SVM\n",
    "svm = linear_model.SGDClassifier(loss='modified_huber',max_iter=1000, tol=1e-3).fit(features,y_train)\n",
    "# AdaBoost\n",
    "adaboost = AdaBoostClassifier(n_estimators=40).fit(features,y_train)"
   ]
  },
  {
   "cell_type": "code",
   "execution_count": 26,
   "id": "e3dd6d5f",
   "metadata": {},
   "outputs": [
    {
     "name": "stdout",
     "output_type": "stream",
     "text": [
      "Found 6749 unique tokens.\n",
      "Shape of data tensor: (3053, 50)\n",
      "Shape of label tensor: (3053, 2)\n"
     ]
    }
   ],
   "source": [
    "from keras.preprocessing.text import Tokenizer\n",
    "from keras.models import Sequential\n",
    "from keras.layers import Dense, Embedding, LSTM, SpatialDropout1D\n",
    "from keras.utils.np_utils import to_categorical\n",
    "from keras.utils import pad_sequences\n",
    "\n",
    "\n",
    "# The maximum number of words to be used. (most frequent)\n",
    "MAX_NB_WORDS = 20000\n",
    "# Max number of words in each complaint.\n",
    "MAX_SEQUENCE_LENGTH = 50\n",
    "# This is fixed.\n",
    "EMBEDDING_DIM = 100\n",
    "\n",
    "# Combining titles and descriptions into a single sentence\n",
    "titles = data['Title'].values\n",
    "descriptions = data['Description'].values\n",
    "data_for_lstms = []\n",
    "for i in range(len(titles)):\n",
    "    temp_list = [titles[i], descriptions[i]]\n",
    "    data_for_lstms.append(' '.join(temp_list))\n",
    "\n",
    "tokenizer = Tokenizer(num_words=MAX_NB_WORDS, filters='!\"#$%&()*+,-./:;<=>?@[\\]^_`{|}~', lower=True)\n",
    "tokenizer.fit_on_texts(data_for_lstms)\n",
    "word_index = tokenizer.word_index\n",
    "print('Found %s unique tokens.' % len(word_index))\n",
    "\n",
    "# Convert the data to padded sequences\n",
    "X = tokenizer.texts_to_sequences(data_for_lstms)\n",
    "X = pad_sequences(X, maxlen=MAX_SEQUENCE_LENGTH)\n",
    "print('Shape of data tensor:', X.shape)\n",
    "\n",
    "# One-hot Encode labels\n",
    "Y = pd.get_dummies(data['Category']).values\n",
    "print('Shape of label tensor:', Y.shape)\n",
    "\n",
    "# Splitting into training and test set\n",
    "X_train, X_test, Y_train, Y_test = train_test_split(X,Y, random_state = 42)"
   ]
  },
  {
   "cell_type": "code",
   "execution_count": 27,
   "id": "a8cbe004",
   "metadata": {},
   "outputs": [
    {
     "name": "stdout",
     "output_type": "stream",
     "text": [
      "Model: \"sequential\"\n",
      "_________________________________________________________________\n",
      " Layer (type)                Output Shape              Param #   \n",
      "=================================================================\n",
      " embedding (Embedding)       (None, 50, 100)           2000000   \n",
      "                                                                 \n",
      " spatial_dropout1d (SpatialD  (None, 50, 100)          0         \n",
      " ropout1D)                                                       \n",
      "                                                                 \n",
      " lstm (LSTM)                 (None, 100)               80400     \n",
      "                                                                 \n",
      " dense (Dense)               (None, 2)                 202       \n",
      "                                                                 \n",
      "=================================================================\n",
      "Total params: 2,080,602\n",
      "Trainable params: 2,080,602\n",
      "Non-trainable params: 0\n",
      "_________________________________________________________________\n",
      "None\n"
     ]
    }
   ],
   "source": [
    "# Define LSTM Model\n",
    "model = Sequential()\n",
    "model.add(Embedding(MAX_NB_WORDS, EMBEDDING_DIM, input_length=X.shape[1]))\n",
    "model.add(SpatialDropout1D(0.2))\n",
    "model.add(LSTM(100, dropout=0.2, recurrent_dropout=0.2))\n",
    "model.add(Dense(2, activation='softmax'))\n",
    "model.compile(loss='categorical_crossentropy', optimizer='adam', metrics=['accuracy'])\n",
    "print(model.summary())"
   ]
  },
  {
   "cell_type": "code",
   "execution_count": 28,
   "id": "9d88c1a0",
   "metadata": {},
   "outputs": [
    {
     "name": "stdout",
     "output_type": "stream",
     "text": [
      "Epoch 1/5\n",
      "33/33 [==============================] - 10s 169ms/step - loss: 0.5664 - accuracy: 0.7568 - val_loss: 0.2737 - val_accuracy: 0.9258\n",
      "Epoch 2/5\n",
      "33/33 [==============================] - 4s 126ms/step - loss: 0.2376 - accuracy: 0.9146 - val_loss: 0.2396 - val_accuracy: 0.9214\n",
      "Epoch 3/5\n",
      "33/33 [==============================] - 5s 151ms/step - loss: 0.1720 - accuracy: 0.9369 - val_loss: 0.2108 - val_accuracy: 0.9170\n",
      "Epoch 4/5\n",
      "33/33 [==============================] - 4s 120ms/step - loss: 0.1301 - accuracy: 0.9476 - val_loss: 0.2216 - val_accuracy: 0.9258\n",
      "Epoch 5/5\n",
      "33/33 [==============================] - 4s 132ms/step - loss: 0.1070 - accuracy: 0.9529 - val_loss: 0.2370 - val_accuracy: 0.9083\n"
     ]
    }
   ],
   "source": [
    "# Training LSTM Model\n",
    "epochs = 5\n",
    "batch_size = 64\n",
    "\n",
    "history = model.fit(X_train, Y_train, epochs=epochs, batch_size=batch_size,validation_split=0.1)"
   ]
  },
  {
   "cell_type": "code",
   "execution_count": 30,
   "id": "d46d06f6",
   "metadata": {},
   "outputs": [
    {
     "ename": "NameError",
     "evalue": "name 'pickle' is not defined",
     "output_type": "error",
     "traceback": [
      "\u001b[1;31m---------------------------------------------------------------------------\u001b[0m",
      "\u001b[1;31mNameError\u001b[0m                                 Traceback (most recent call last)",
      "\u001b[1;32mC:\\Users\\RAJURA~1\\AppData\\Local\\Temp/ipykernel_26308/4170228217.py\u001b[0m in \u001b[0;36m<module>\u001b[1;34m\u001b[0m\n\u001b[0;32m      1\u001b[0m \u001b[1;32mfrom\u001b[0m \u001b[0mkeras\u001b[0m\u001b[1;33m.\u001b[0m\u001b[0mpreprocessing\u001b[0m\u001b[1;33m.\u001b[0m\u001b[0mtext\u001b[0m \u001b[1;32mimport\u001b[0m \u001b[0mTokenizer\u001b[0m\u001b[1;33m\u001b[0m\u001b[1;33m\u001b[0m\u001b[0m\n\u001b[0;32m      2\u001b[0m \u001b[1;32mwith\u001b[0m \u001b[0mopen\u001b[0m\u001b[1;33m(\u001b[0m\u001b[1;34m'tokenizer.pkl'\u001b[0m\u001b[1;33m,\u001b[0m \u001b[1;34m'wb'\u001b[0m\u001b[1;33m)\u001b[0m \u001b[1;32mas\u001b[0m \u001b[0mf\u001b[0m\u001b[1;33m:\u001b[0m\u001b[1;33m\u001b[0m\u001b[1;33m\u001b[0m\u001b[0m\n\u001b[1;32m----> 3\u001b[1;33m     \u001b[0mpickle\u001b[0m\u001b[1;33m.\u001b[0m\u001b[0mdump\u001b[0m\u001b[1;33m(\u001b[0m\u001b[0mtokenizer\u001b[0m\u001b[1;33m,\u001b[0m \u001b[0mf\u001b[0m\u001b[1;33m)\u001b[0m\u001b[1;33m\u001b[0m\u001b[1;33m\u001b[0m\u001b[0m\n\u001b[0m",
      "\u001b[1;31mNameError\u001b[0m: name 'pickle' is not defined"
     ]
    }
   ],
   "source": [
    "from keras.preprocessing.text import Tokenizer\n",
    "with open('tokenizer.pkl', 'wb') as f:\n",
    "    pickle.dump(tokenizer, f)"
   ]
  },
  {
   "cell_type": "code",
   "execution_count": 31,
   "id": "9f08390e",
   "metadata": {},
   "outputs": [
    {
     "data": {
      "image/png": "[encoded data removed]",
      "text/plain": [
       "<Figure size 432x288 with 1 Axes>"
      ]
     },
     "metadata": {
      "needs_background": "light"
     },
     "output_type": "display_data"
    },
    {
     "data": {
      "image/png": "[encoded data removed]",
      "text/plain": [
       "<Figure size 432x288 with 1 Axes>"
      ]
     },
     "metadata": {
      "needs_background": "light"
     },
     "output_type": "display_data"
    }
   ],
   "source": [
    "# Plot Loss\n",
    "plt.title('Loss')\n",
    "plt.plot(history.history['loss'], label='train')\n",
    "plt.plot(history.history['val_loss'], label='test')\n",
    "plt.legend()\n",
    "plt.show()\n",
    "\n",
    "# Plot Accuracy\n",
    "accuracy_key = 'accuracy' if 'accuracy' in history.history else 'acc'\n",
    "plt.title('Accuracy')\n",
    "plt.plot(history.history[accuracy_key], label='train')\n",
    "plt.plot(history.history['val_' + accuracy_key], label='test')\n",
    "plt.legend()\n",
    "plt.show()\n"
   ]
  },
  {
   "cell_type": "code",
   "execution_count": 32,
   "id": "434d06a7",
   "metadata": {},
   "outputs": [
    {
     "ename": "FileNotFoundError",
     "evalue": "[Errno 2] No such file or directory: 'lstm_model.pkl'",
     "output_type": "error",
     "traceback": [
      "\u001b[1;31m---------------------------------------------------------------------------\u001b[0m",
      "\u001b[1;31mFileNotFoundError\u001b[0m                         Traceback (most recent call last)",
      "\u001b[1;32mC:\\Users\\RAJURA~1\\AppData\\Local\\Temp/ipykernel_26308/3593682373.py\u001b[0m in \u001b[0;36m<module>\u001b[1;34m\u001b[0m\n\u001b[1;32m----> 1\u001b[1;33m \u001b[1;32mwith\u001b[0m \u001b[0mopen\u001b[0m\u001b[1;33m(\u001b[0m\u001b[1;34m'lstm_model.pkl'\u001b[0m\u001b[1;33m,\u001b[0m\u001b[1;34m'rb'\u001b[0m\u001b[1;33m)\u001b[0m \u001b[1;32mas\u001b[0m \u001b[0mf\u001b[0m\u001b[1;33m:\u001b[0m\u001b[1;33m\u001b[0m\u001b[1;33m\u001b[0m\u001b[0m\n\u001b[0m\u001b[0;32m      2\u001b[0m         \u001b[0mmodel_file\u001b[0m \u001b[1;33m=\u001b[0m \u001b[0mpickle\u001b[0m\u001b[1;33m.\u001b[0m\u001b[0mload\u001b[0m\u001b[1;33m(\u001b[0m\u001b[0mf\u001b[0m\u001b[1;33m)\u001b[0m\u001b[1;33m\u001b[0m\u001b[1;33m\u001b[0m\u001b[0m\n",
      "\u001b[1;31mFileNotFoundError\u001b[0m: [Errno 2] No such file or directory: 'lstm_model.pkl'"
     ]
    }
   ],
   "source": [
    "with open('lstm_model.pkl','rb') as f:\n",
    "        model_file = pickle.load(f)"
   ]
  },
  {
   "cell_type": "markdown",
   "id": "0cd99284",
   "metadata": {},
   "source": [
    "## Performance Evaluation"
   ]
  },
  {
   "cell_type": "markdown",
   "id": "5a6d35f2",
   "metadata": {},
   "source": [
    "### LSTM"
   ]
  },
  {
   "cell_type": "code",
   "execution_count": 33,
   "id": "e8d9e36a",
   "metadata": {},
   "outputs": [
    {
     "name": "stdout",
     "output_type": "stream",
     "text": [
      "24/24 [==============================] - 0s 9ms/step\n",
      "               precision    recall  f1-score   support\n",
      "\n",
      "    Education       0.89      0.92      0.91       383\n",
      "Entertainment       0.92      0.88      0.90       381\n",
      "\n",
      "     accuracy                           0.90       764\n",
      "    macro avg       0.90      0.90      0.90       764\n",
      " weighted avg       0.90      0.90      0.90       764\n",
      "\n"
     ]
    },
    {
     "data": {
      "image/png": "[encoded data removed]",
      "text/plain": [
       "<Figure size 720x720 with 2 Axes>"
      ]
     },
     "metadata": {
      "needs_background": "light"
     },
     "output_type": "display_data"
    },
    {
     "name": "stderr",
     "output_type": "stream",
     "text": [
      "C:\\Users\\Raju Ranjan Yadav\\anaconda3\\lib\\site-packages\\sklearn\\utils\\deprecation.py:86: FutureWarning: Function plot_precision_recall_curve is deprecated; This will be removed in v0.5.0. Please use scikitplot.metrics.plot_precision_recall instead.\n",
      "  warnings.warn(msg, category=FutureWarning)\n"
     ]
    },
    {
     "data": {
      "image/png": "[encoded data removed]",
      "text/plain": [
       "<Figure size 432x288 with 1 Axes>"
      ]
     },
     "metadata": {
      "needs_background": "light"
     },
     "output_type": "display_data"
    }
   ],
   "source": [
    "from sklearn import metrics\n",
    "import matplotlib.pyplot as plt\n",
    "import seaborn as sns\n",
    "from sklearn.metrics import confusion_matrix\n",
    "import scikitplot as skplt\n",
    "\n",
    "# # Ensure X_test contains text data in the 'Title' and 'Description' columns\n",
    "# X_test_title_features = tfidf_title.transform(X_test['Title']).toarray()\n",
    "# X_test_desc_features = tfidf_desc.transform(X_test['Description']).toarray()\n",
    "y_probas = model.predict(X_test)\n",
    "y_pred = np.argmax(y_probas, axis=1)\n",
    "y_test = np.argmax(Y_test, axis=1)\n",
    "\n",
    "print(metrics.classification_report(y_test, y_pred, \n",
    "                                    target_names=list(le.classes_)))\n",
    "\n",
    "conf_mat = confusion_matrix(y_test, y_pred)\n",
    "fig, ax = plt.subplots(figsize=(10,10))\n",
    "sns.heatmap(conf_mat, annot=True, fmt='d', xticklabels=list(le.classes_), yticklabels=list(le.classes_))\n",
    "plt.ylabel('Actual')\n",
    "plt.xlabel('Predicted')\n",
    "plt.title('Confusion Matrix - LSTM')\n",
    "plt.show()\n",
    "\n",
    "skplt.metrics.plot_precision_recall_curve(y_test, y_probas)\n",
    "plt.title('Precision-Recall Curve - LSTM')\n",
    "plt.show()\n"
   ]
  },
  {
   "cell_type": "markdown",
   "id": "29124128",
   "metadata": {},
   "source": [
    "### SVM "
   ]
  },
  {
   "cell_type": "code",
   "execution_count": 34,
   "id": "bd2225d9",
   "metadata": {},
   "outputs": [],
   "source": [
    "import pickle"
   ]
  },
  {
   "cell_type": "code",
   "execution_count": 35,
   "id": "92f1a865",
   "metadata": {},
   "outputs": [
    {
     "name": "stderr",
     "output_type": "stream",
     "text": [
      "WARNING:absl:Found untraced functions such as _update_step_xla while saving (showing 1 of 1). These functions will not be directly callable after loading.\n"
     ]
    },
    {
     "name": "stdout",
     "output_type": "stream",
     "text": [
      "INFO:tensorflow:Assets written to: saved_models/assets\n"
     ]
    },
    {
     "name": "stderr",
     "output_type": "stream",
     "text": [
      "INFO:tensorflow:Assets written to: saved_models/assets\n"
     ]
    }
   ],
   "source": [
    "model_directory = 'saved_models/model.h5'\n",
    "# model_filename = 'lstm_model.pkl'\n",
    "\n",
    "# Save the model to a pickle file\n",
    "# with open(model_filename, 'wb') as file:\n",
    "#     pickle.dump(model, file)\n",
    "model.save(model_directory)"
   ]
  },
  {
   "cell_type": "code",
   "execution_count": 316,
   "id": "9bd3d95e",
   "metadata": {},
   "outputs": [
    {
     "data": {
      "text/plain": [
       "array([   0,    0,    0,    0,    0,    0,    0,    0,    0,    0,    0,\n",
       "          0,    0,    0,    0,    0,    0,    0,    0,    0,    0,    0,\n",
       "          0,    0,    0,    0,    0,    0,    0,    0,    0,    0,    0,\n",
       "          0,    0,    0,    0,    0, 1187,    2,    8,   75,  811, 1187,\n",
       "          2,    8,   75,  811,   55,   18])"
      ]
     },
     "execution_count": 316,
     "metadata": {},
     "output_type": "execute_result"
    }
   ],
   "source": [
    "X_test[0]"
   ]
  }
 ],
 "metadata": {
  "kernelspec": {
   "display_name": "Python 3 (ipykernel)",
   "language": "python",
   "name": "python3"
  },
  "language_info": {
   "codemirror_mode": {
    "name": "ipython",
    "version": 3
   },
   "file_extension": ".py",
   "mimetype": "text/x-python",
   "name": "python",
   "nbconvert_exporter": "python",
   "pygments_lexer": "ipython3",
   "version": "3.9.7"
  }
 },
 "nbformat": 4,
 "nbformat_minor": 5
}
